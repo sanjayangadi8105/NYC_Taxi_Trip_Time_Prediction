{
  "nbformat": 4,
  "nbformat_minor": 0,
  "metadata": {
    "colab": {
      "provenance": [],
      "collapsed_sections": [
        "KH5McJBi2d8v",
        "iW_Lq9qf2h6X",
        "-Kee-DAl2viO",
        "gIfDvo9L0UH2"
      ],
      "include_colab_link": true
    },
    "kernelspec": {
      "name": "python3",
      "display_name": "Python 3"
    },
    "language_info": {
      "name": "python"
    }
  },
  "cells": [
    {
      "cell_type": "markdown",
      "metadata": {
        "id": "view-in-github",
        "colab_type": "text"
      },
      "source": [
        "<a href=\"https://colab.research.google.com/github/sanjayangadi8105/NYC_Taxi_Trip_Time_Prediction/blob/main/Capstone_Project_2%2CNYC_Taxi_Trip_Time_Prediction.ipynb\" target=\"_parent\"><img src=\"https://colab.research.google.com/assets/colab-badge.svg\" alt=\"Open In Colab\"/></a>"
      ]
    },
    {
      "cell_type": "markdown",
      "source": [
        "# **Project Name**    -\n",
        "\n"
      ],
      "metadata": {
        "id": "vncDsAP0Gaoa"
      }
    },
    {
      "cell_type": "markdown",
      "source": [
        "##### **Project Type**    - Regression\n",
        "##### **Contribution**    - Individual\n",
        "##### **Team Member 1 -** Sanjay Angadi\n"
      ],
      "metadata": {
        "id": "beRrZCGUAJYm"
      }
    },
    {
      "cell_type": "markdown",
      "source": [
        "# **Project Summary -**"
      ],
      "metadata": {
        "id": "FJNUwmbgGyua"
      }
    },
    {
      "cell_type": "markdown",
      "source": [
        "To build that predicts the total ride duration of taxi trips in new york city. Your primary dataset is one released by the NYC taxi and Limousine commission, Which includes pick up time, geo coordinates, number of passangers and several other variables"
      ],
      "metadata": {
        "id": "F6v_1wHtG2nS"
      }
    },
    {
      "cell_type": "markdown",
      "source": [
        "# **GitHub Link -**"
      ],
      "metadata": {
        "id": "w6K7xa23Elo4"
      }
    },
    {
      "cell_type": "markdown",
      "source": [
        "https://github.com/sanjayangadi8105"
      ],
      "metadata": {
        "id": "h1o69JH3Eqqn"
      }
    },
    {
      "cell_type": "markdown",
      "source": [
        "# **Problem Statement**\n"
      ],
      "metadata": {
        "id": "yQaldy8SH6Dl"
      }
    },
    {
      "cell_type": "markdown",
      "source": [
        "The goal of this project is to develop a predictive model that accurately estimates the total ride duration for taxi trips in New York City. The primary dataset used for this task is the one released by the NYC Taxi and Limousine Commission, which includes essential information such as pick-up time, geographic coordinates, number of passengers, and several other variables.\n",
        "\n",
        "The challenge lies in leveraging the available data to create a reliable model capable of estimating the time it takes for a taxi trip to reach its destination. This prediction will assist both passengers and taxi service providers in improving their travel planning, enhancing efficiency, and reducing uncertainty."
      ],
      "metadata": {
        "id": "DpeJGUA3kjGy"
      }
    },
    {
      "cell_type": "markdown",
      "source": [
        "# **General Guidelines** : -  "
      ],
      "metadata": {
        "id": "mDgbUHAGgjLW"
      }
    },
    {
      "cell_type": "markdown",
      "source": [
        "1.   Well-structured, formatted, and commented code is required.\n",
        "2.   Exception Handling, Production Grade Code & Deployment Ready Code will be a plus. Those students will be awarded some additional credits.\n",
        "     \n",
        "     The additional credits will have advantages over other students during Star Student selection.\n",
        "       \n",
        "             [ Note: - Deployment Ready Code is defined as, the whole .ipynb notebook should be executable in one go\n",
        "                       without a single error logged. ]\n",
        "\n",
        "3.   Each and every logic should have proper comments.\n",
        "4. You may add as many number of charts you want. Make Sure for each and every chart the following format should be answered.\n",
        "        \n",
        "\n",
        "```\n",
        "# Chart visualization code\n",
        "```\n",
        "            \n",
        "\n",
        "*   Why did you pick the specific chart?\n",
        "*   What is/are the insight(s) found from the chart?\n",
        "* Will the gained insights help creating a positive business impact?\n",
        "Are there any insights that lead to negative growth? Justify with specific reason.\n",
        "\n",
        "5. You have to create at least 15 logical & meaningful charts having important insights.\n",
        "\n",
        "\n",
        "[ Hints : - Do the Vizualization in  a structured way while following \"UBM\" Rule.\n",
        "\n",
        "U - Univariate Analysis,\n",
        "\n",
        "B - Bivariate Analysis (Numerical - Categorical, Numerical - Numerical, Categorical - Categorical)\n",
        "\n",
        "M - Multivariate Analysis\n",
        " ]\n",
        "\n",
        "\n",
        "\n",
        "\n",
        "\n",
        "6. You may add more ml algorithms for model creation. Make sure for each and every algorithm, the following format should be answered.\n",
        "\n",
        "\n",
        "*   Explain the ML Model used and it's performance using Evaluation metric Score Chart.\n",
        "\n",
        "\n",
        "*   Cross- Validation & Hyperparameter Tuning\n",
        "\n",
        "*   Have you seen any improvement? Note down the improvement with updates Evaluation metric Score Chart.\n",
        "\n",
        "*   Explain each evaluation metric's indication towards business and the business impact pf the ML model used.\n",
        "\n",
        "\n",
        "\n",
        "\n",
        "\n",
        "\n",
        "\n",
        "\n",
        "\n",
        "\n",
        "\n",
        "\n",
        "\n",
        "\n",
        "\n",
        "\n",
        "\n",
        "\n"
      ],
      "metadata": {
        "id": "ZrxVaUj-hHfC"
      }
    },
    {
      "cell_type": "markdown",
      "source": [
        "# ***Let's Begin !***"
      ],
      "metadata": {
        "id": "O_i_v8NEhb9l"
      }
    },
    {
      "cell_type": "markdown",
      "source": [
        "## ***1. Know Your Data***"
      ],
      "metadata": {
        "id": "HhfV-JJviCcP"
      }
    },
    {
      "cell_type": "markdown",
      "source": [
        "### Import Libraries"
      ],
      "metadata": {
        "id": "Y3lxredqlCYt"
      }
    },
    {
      "cell_type": "code",
      "source": [
        "# Import Libraries\n",
        "# Import Libraries\n",
        "import numpy as np\n",
        "import pandas as pd\n",
        "\n",
        "from sklearn.preprocessing import MinMaxScaler\n",
        "from sklearn.model_selection import train_test_split\n",
        "from sklearn.linear_model import LinearRegression\n",
        "from sklearn.metrics import r2_score\n",
        "from sklearn.metrics import mean_squared_error\n",
        "from sklearn.preprocessing import LabelEncoder\n",
        "from sklearn.model_selection import train_test_split, GridSearchCV\n",
        "\n",
        "import matplotlib.pyplot as plt\n",
        "import seaborn as sns\n",
        "\n",
        "from scipy.stats import ttest_ind"
      ],
      "metadata": {
        "id": "M8Vqi-pPk-HR"
      },
      "execution_count": null,
      "outputs": []
    },
    {
      "cell_type": "markdown",
      "source": [
        "### Dataset Loading"
      ],
      "metadata": {
        "id": "3RnN4peoiCZX"
      }
    },
    {
      "cell_type": "code",
      "source": [
        "# Load Dataset\n",
        "data = pd.read_csv('/content/NYC Taxi Data.csv')"
      ],
      "metadata": {
        "id": "4CkvbW_SlZ_R"
      },
      "execution_count": null,
      "outputs": []
    },
    {
      "cell_type": "markdown",
      "source": [
        "### Dataset First View"
      ],
      "metadata": {
        "id": "x71ZqKXriCWQ"
      }
    },
    {
      "cell_type": "code",
      "source": [
        "# Dataset First Look\n",
        "data.head()"
      ],
      "metadata": {
        "id": "LWNFOSvLl09H",
        "colab": {
          "base_uri": "https://localhost:8080/",
          "height": 357
        },
        "outputId": "a183b6bc-de67-4a92-ebc5-36a15b011d24"
      },
      "execution_count": null,
      "outputs": [
        {
          "output_type": "execute_result",
          "data": {
            "text/plain": [
              "          id  vendor_id      pickup_datetime     dropoff_datetime  \\\n",
              "0  id2875421          2  2016-03-14 17:24:55  2016-03-14 17:32:30   \n",
              "1  id2377394          1  2016-06-12 00:43:35  2016-06-12 00:54:38   \n",
              "2  id3858529          2  2016-01-19 11:35:24  2016-01-19 12:10:48   \n",
              "3  id3504673          2  2016-04-06 19:32:31  2016-04-06 19:39:40   \n",
              "4  id2181028          2  2016-03-26 13:30:55  2016-03-26 13:38:10   \n",
              "\n",
              "   passenger_count  pickup_longitude  pickup_latitude  dropoff_longitude  \\\n",
              "0                1        -73.982155        40.767937         -73.964630   \n",
              "1                1        -73.980415        40.738564         -73.999481   \n",
              "2                1        -73.979027        40.763939         -74.005333   \n",
              "3                1        -74.010040        40.719971         -74.012268   \n",
              "4                1        -73.973053        40.793209         -73.972923   \n",
              "\n",
              "   dropoff_latitude store_and_fwd_flag  trip_duration  \n",
              "0         40.765602                  N            455  \n",
              "1         40.731152                  N            663  \n",
              "2         40.710087                  N           2124  \n",
              "3         40.706718                  N            429  \n",
              "4         40.782520                  N            435  "
            ],
            "text/html": [
              "\n",
              "\n",
              "  <div id=\"df-de644757-3dd2-4bed-b38e-6c081a2aab87\">\n",
              "    <div class=\"colab-df-container\">\n",
              "      <div>\n",
              "<style scoped>\n",
              "    .dataframe tbody tr th:only-of-type {\n",
              "        vertical-align: middle;\n",
              "    }\n",
              "\n",
              "    .dataframe tbody tr th {\n",
              "        vertical-align: top;\n",
              "    }\n",
              "\n",
              "    .dataframe thead th {\n",
              "        text-align: right;\n",
              "    }\n",
              "</style>\n",
              "<table border=\"1\" class=\"dataframe\">\n",
              "  <thead>\n",
              "    <tr style=\"text-align: right;\">\n",
              "      <th></th>\n",
              "      <th>id</th>\n",
              "      <th>vendor_id</th>\n",
              "      <th>pickup_datetime</th>\n",
              "      <th>dropoff_datetime</th>\n",
              "      <th>passenger_count</th>\n",
              "      <th>pickup_longitude</th>\n",
              "      <th>pickup_latitude</th>\n",
              "      <th>dropoff_longitude</th>\n",
              "      <th>dropoff_latitude</th>\n",
              "      <th>store_and_fwd_flag</th>\n",
              "      <th>trip_duration</th>\n",
              "    </tr>\n",
              "  </thead>\n",
              "  <tbody>\n",
              "    <tr>\n",
              "      <th>0</th>\n",
              "      <td>id2875421</td>\n",
              "      <td>2</td>\n",
              "      <td>2016-03-14 17:24:55</td>\n",
              "      <td>2016-03-14 17:32:30</td>\n",
              "      <td>1</td>\n",
              "      <td>-73.982155</td>\n",
              "      <td>40.767937</td>\n",
              "      <td>-73.964630</td>\n",
              "      <td>40.765602</td>\n",
              "      <td>N</td>\n",
              "      <td>455</td>\n",
              "    </tr>\n",
              "    <tr>\n",
              "      <th>1</th>\n",
              "      <td>id2377394</td>\n",
              "      <td>1</td>\n",
              "      <td>2016-06-12 00:43:35</td>\n",
              "      <td>2016-06-12 00:54:38</td>\n",
              "      <td>1</td>\n",
              "      <td>-73.980415</td>\n",
              "      <td>40.738564</td>\n",
              "      <td>-73.999481</td>\n",
              "      <td>40.731152</td>\n",
              "      <td>N</td>\n",
              "      <td>663</td>\n",
              "    </tr>\n",
              "    <tr>\n",
              "      <th>2</th>\n",
              "      <td>id3858529</td>\n",
              "      <td>2</td>\n",
              "      <td>2016-01-19 11:35:24</td>\n",
              "      <td>2016-01-19 12:10:48</td>\n",
              "      <td>1</td>\n",
              "      <td>-73.979027</td>\n",
              "      <td>40.763939</td>\n",
              "      <td>-74.005333</td>\n",
              "      <td>40.710087</td>\n",
              "      <td>N</td>\n",
              "      <td>2124</td>\n",
              "    </tr>\n",
              "    <tr>\n",
              "      <th>3</th>\n",
              "      <td>id3504673</td>\n",
              "      <td>2</td>\n",
              "      <td>2016-04-06 19:32:31</td>\n",
              "      <td>2016-04-06 19:39:40</td>\n",
              "      <td>1</td>\n",
              "      <td>-74.010040</td>\n",
              "      <td>40.719971</td>\n",
              "      <td>-74.012268</td>\n",
              "      <td>40.706718</td>\n",
              "      <td>N</td>\n",
              "      <td>429</td>\n",
              "    </tr>\n",
              "    <tr>\n",
              "      <th>4</th>\n",
              "      <td>id2181028</td>\n",
              "      <td>2</td>\n",
              "      <td>2016-03-26 13:30:55</td>\n",
              "      <td>2016-03-26 13:38:10</td>\n",
              "      <td>1</td>\n",
              "      <td>-73.973053</td>\n",
              "      <td>40.793209</td>\n",
              "      <td>-73.972923</td>\n",
              "      <td>40.782520</td>\n",
              "      <td>N</td>\n",
              "      <td>435</td>\n",
              "    </tr>\n",
              "  </tbody>\n",
              "</table>\n",
              "</div>\n",
              "      <button class=\"colab-df-convert\" onclick=\"convertToInteractive('df-de644757-3dd2-4bed-b38e-6c081a2aab87')\"\n",
              "              title=\"Convert this dataframe to an interactive table.\"\n",
              "              style=\"display:none;\">\n",
              "\n",
              "  <svg xmlns=\"http://www.w3.org/2000/svg\" height=\"24px\"viewBox=\"0 0 24 24\"\n",
              "       width=\"24px\">\n",
              "    <path d=\"M0 0h24v24H0V0z\" fill=\"none\"/>\n",
              "    <path d=\"M18.56 5.44l.94 2.06.94-2.06 2.06-.94-2.06-.94-.94-2.06-.94 2.06-2.06.94zm-11 1L8.5 8.5l.94-2.06 2.06-.94-2.06-.94L8.5 2.5l-.94 2.06-2.06.94zm10 10l.94 2.06.94-2.06 2.06-.94-2.06-.94-.94-2.06-.94 2.06-2.06.94z\"/><path d=\"M17.41 7.96l-1.37-1.37c-.4-.4-.92-.59-1.43-.59-.52 0-1.04.2-1.43.59L10.3 9.45l-7.72 7.72c-.78.78-.78 2.05 0 2.83L4 21.41c.39.39.9.59 1.41.59.51 0 1.02-.2 1.41-.59l7.78-7.78 2.81-2.81c.8-.78.8-2.07 0-2.86zM5.41 20L4 18.59l7.72-7.72 1.47 1.35L5.41 20z\"/>\n",
              "  </svg>\n",
              "      </button>\n",
              "\n",
              "\n",
              "\n",
              "    <div id=\"df-67b37e64-3141-4216-a6be-bbfbfb6b982b\">\n",
              "      <button class=\"colab-df-quickchart\" onclick=\"quickchart('df-67b37e64-3141-4216-a6be-bbfbfb6b982b')\"\n",
              "              title=\"Suggest charts.\"\n",
              "              style=\"display:none;\">\n",
              "\n",
              "<svg xmlns=\"http://www.w3.org/2000/svg\" height=\"24px\"viewBox=\"0 0 24 24\"\n",
              "     width=\"24px\">\n",
              "    <g>\n",
              "        <path d=\"M19 3H5c-1.1 0-2 .9-2 2v14c0 1.1.9 2 2 2h14c1.1 0 2-.9 2-2V5c0-1.1-.9-2-2-2zM9 17H7v-7h2v7zm4 0h-2V7h2v10zm4 0h-2v-4h2v4z\"/>\n",
              "    </g>\n",
              "</svg>\n",
              "      </button>\n",
              "    </div>\n",
              "\n",
              "<style>\n",
              "  .colab-df-quickchart {\n",
              "    background-color: #E8F0FE;\n",
              "    border: none;\n",
              "    border-radius: 50%;\n",
              "    cursor: pointer;\n",
              "    display: none;\n",
              "    fill: #1967D2;\n",
              "    height: 32px;\n",
              "    padding: 0 0 0 0;\n",
              "    width: 32px;\n",
              "  }\n",
              "\n",
              "  .colab-df-quickchart:hover {\n",
              "    background-color: #E2EBFA;\n",
              "    box-shadow: 0px 1px 2px rgba(60, 64, 67, 0.3), 0px 1px 3px 1px rgba(60, 64, 67, 0.15);\n",
              "    fill: #174EA6;\n",
              "  }\n",
              "\n",
              "  [theme=dark] .colab-df-quickchart {\n",
              "    background-color: #3B4455;\n",
              "    fill: #D2E3FC;\n",
              "  }\n",
              "\n",
              "  [theme=dark] .colab-df-quickchart:hover {\n",
              "    background-color: #434B5C;\n",
              "    box-shadow: 0px 1px 3px 1px rgba(0, 0, 0, 0.15);\n",
              "    filter: drop-shadow(0px 1px 2px rgba(0, 0, 0, 0.3));\n",
              "    fill: #FFFFFF;\n",
              "  }\n",
              "</style>\n",
              "\n",
              "    <script>\n",
              "      async function quickchart(key) {\n",
              "        const containerElement = document.querySelector('#' + key);\n",
              "        const charts = await google.colab.kernel.invokeFunction(\n",
              "            'suggestCharts', [key], {});\n",
              "      }\n",
              "    </script>\n",
              "\n",
              "      <script>\n",
              "\n",
              "function displayQuickchartButton(domScope) {\n",
              "  let quickchartButtonEl =\n",
              "    domScope.querySelector('#df-67b37e64-3141-4216-a6be-bbfbfb6b982b button.colab-df-quickchart');\n",
              "  quickchartButtonEl.style.display =\n",
              "    google.colab.kernel.accessAllowed ? 'block' : 'none';\n",
              "}\n",
              "\n",
              "        displayQuickchartButton(document);\n",
              "      </script>\n",
              "      <style>\n",
              "    .colab-df-container {\n",
              "      display:flex;\n",
              "      flex-wrap:wrap;\n",
              "      gap: 12px;\n",
              "    }\n",
              "\n",
              "    .colab-df-convert {\n",
              "      background-color: #E8F0FE;\n",
              "      border: none;\n",
              "      border-radius: 50%;\n",
              "      cursor: pointer;\n",
              "      display: none;\n",
              "      fill: #1967D2;\n",
              "      height: 32px;\n",
              "      padding: 0 0 0 0;\n",
              "      width: 32px;\n",
              "    }\n",
              "\n",
              "    .colab-df-convert:hover {\n",
              "      background-color: #E2EBFA;\n",
              "      box-shadow: 0px 1px 2px rgba(60, 64, 67, 0.3), 0px 1px 3px 1px rgba(60, 64, 67, 0.15);\n",
              "      fill: #174EA6;\n",
              "    }\n",
              "\n",
              "    [theme=dark] .colab-df-convert {\n",
              "      background-color: #3B4455;\n",
              "      fill: #D2E3FC;\n",
              "    }\n",
              "\n",
              "    [theme=dark] .colab-df-convert:hover {\n",
              "      background-color: #434B5C;\n",
              "      box-shadow: 0px 1px 3px 1px rgba(0, 0, 0, 0.15);\n",
              "      filter: drop-shadow(0px 1px 2px rgba(0, 0, 0, 0.3));\n",
              "      fill: #FFFFFF;\n",
              "    }\n",
              "  </style>\n",
              "\n",
              "      <script>\n",
              "        const buttonEl =\n",
              "          document.querySelector('#df-de644757-3dd2-4bed-b38e-6c081a2aab87 button.colab-df-convert');\n",
              "        buttonEl.style.display =\n",
              "          google.colab.kernel.accessAllowed ? 'block' : 'none';\n",
              "\n",
              "        async function convertToInteractive(key) {\n",
              "          const element = document.querySelector('#df-de644757-3dd2-4bed-b38e-6c081a2aab87');\n",
              "          const dataTable =\n",
              "            await google.colab.kernel.invokeFunction('convertToInteractive',\n",
              "                                                     [key], {});\n",
              "          if (!dataTable) return;\n",
              "\n",
              "          const docLinkHtml = 'Like what you see? Visit the ' +\n",
              "            '<a target=\"_blank\" href=https://colab.research.google.com/notebooks/data_table.ipynb>data table notebook</a>'\n",
              "            + ' to learn more about interactive tables.';\n",
              "          element.innerHTML = '';\n",
              "          dataTable['output_type'] = 'display_data';\n",
              "          await google.colab.output.renderOutput(dataTable, element);\n",
              "          const docLink = document.createElement('div');\n",
              "          docLink.innerHTML = docLinkHtml;\n",
              "          element.appendChild(docLink);\n",
              "        }\n",
              "      </script>\n",
              "    </div>\n",
              "  </div>\n"
            ]
          },
          "metadata": {},
          "execution_count": 9
        }
      ]
    },
    {
      "cell_type": "markdown",
      "source": [
        "### Dataset Rows & Columns count"
      ],
      "metadata": {
        "id": "7hBIi_osiCS2"
      }
    },
    {
      "cell_type": "code",
      "source": [
        "# Dataset Rows & Columns count\n",
        "data.shape"
      ],
      "metadata": {
        "id": "Kllu7SJgmLij",
        "colab": {
          "base_uri": "https://localhost:8080/"
        },
        "outputId": "d2b16835-971f-47c5-9346-a5bd527a6bdc"
      },
      "execution_count": null,
      "outputs": [
        {
          "output_type": "execute_result",
          "data": {
            "text/plain": [
              "(1458644, 11)"
            ]
          },
          "metadata": {},
          "execution_count": 10
        }
      ]
    },
    {
      "cell_type": "markdown",
      "source": [
        "### Dataset Information"
      ],
      "metadata": {
        "id": "JlHwYmJAmNHm"
      }
    },
    {
      "cell_type": "code",
      "source": [
        "# Dataset Info\n",
        "data.info()"
      ],
      "metadata": {
        "id": "e9hRXRi6meOf",
        "colab": {
          "base_uri": "https://localhost:8080/"
        },
        "outputId": "78a4f0e1-c452-4b8c-94ca-62ecc1c1de74"
      },
      "execution_count": null,
      "outputs": [
        {
          "output_type": "stream",
          "name": "stdout",
          "text": [
            "<class 'pandas.core.frame.DataFrame'>\n",
            "RangeIndex: 1458644 entries, 0 to 1458643\n",
            "Data columns (total 11 columns):\n",
            " #   Column              Non-Null Count    Dtype  \n",
            "---  ------              --------------    -----  \n",
            " 0   id                  1458644 non-null  object \n",
            " 1   vendor_id           1458644 non-null  int64  \n",
            " 2   pickup_datetime     1458644 non-null  object \n",
            " 3   dropoff_datetime    1458644 non-null  object \n",
            " 4   passenger_count     1458644 non-null  int64  \n",
            " 5   pickup_longitude    1458644 non-null  float64\n",
            " 6   pickup_latitude     1458644 non-null  float64\n",
            " 7   dropoff_longitude   1458644 non-null  float64\n",
            " 8   dropoff_latitude    1458644 non-null  float64\n",
            " 9   store_and_fwd_flag  1458644 non-null  object \n",
            " 10  trip_duration       1458644 non-null  int64  \n",
            "dtypes: float64(4), int64(3), object(4)\n",
            "memory usage: 122.4+ MB\n"
          ]
        }
      ]
    },
    {
      "cell_type": "markdown",
      "source": [
        "#### Duplicate Values"
      ],
      "metadata": {
        "id": "35m5QtbWiB9F"
      }
    },
    {
      "cell_type": "code",
      "source": [
        "# Dataset Duplicate Value Count\n",
        "data.duplicated().sum()"
      ],
      "metadata": {
        "id": "1sLdpKYkmox0",
        "colab": {
          "base_uri": "https://localhost:8080/"
        },
        "outputId": "5befd4ae-6f82-483f-dae1-541a53736610"
      },
      "execution_count": null,
      "outputs": [
        {
          "output_type": "execute_result",
          "data": {
            "text/plain": [
              "0"
            ]
          },
          "metadata": {},
          "execution_count": 13
        }
      ]
    },
    {
      "cell_type": "markdown",
      "source": [
        "#### Missing Values/Null Values"
      ],
      "metadata": {
        "id": "PoPl-ycgm1ru"
      }
    },
    {
      "cell_type": "code",
      "source": [
        "# Missing Values/Null Values Count\n",
        "data.isnull().sum()"
      ],
      "metadata": {
        "id": "GgHWkxvamxVg",
        "colab": {
          "base_uri": "https://localhost:8080/"
        },
        "outputId": "247591fd-aa81-478e-9431-31e14cbe8d62"
      },
      "execution_count": null,
      "outputs": [
        {
          "output_type": "execute_result",
          "data": {
            "text/plain": [
              "id                    0\n",
              "vendor_id             0\n",
              "pickup_datetime       0\n",
              "dropoff_datetime      0\n",
              "passenger_count       0\n",
              "pickup_longitude      0\n",
              "pickup_latitude       0\n",
              "dropoff_longitude     0\n",
              "dropoff_latitude      0\n",
              "store_and_fwd_flag    0\n",
              "trip_duration         0\n",
              "dtype: int64"
            ]
          },
          "metadata": {},
          "execution_count": 14
        }
      ]
    },
    {
      "cell_type": "code",
      "source": [
        "# Visualizing the missing values\n",
        "missing_values = data.isnull()"
      ],
      "metadata": {
        "id": "3q5wnI3om9sJ"
      },
      "execution_count": null,
      "outputs": []
    },
    {
      "cell_type": "code",
      "source": [
        "plt.figure(figsize=(10, 6))  # Adjust the figure size as needed\n",
        "sns.heatmap(missing_values, cbar=False, cmap='viridis')\n",
        "plt.title('Missing Values')\n",
        "plt.show()"
      ],
      "metadata": {
        "colab": {
          "base_uri": "https://localhost:8080/",
          "height": 664
        },
        "id": "DWPMGBhaY6BB",
        "outputId": "2ad40a30-91ae-4d5e-d5ad-9632e3991b37"
      },
      "execution_count": null,
      "outputs": [
        {
          "output_type": "display_data",
          "data": {
            "text/plain": [
              "<Figure size 1000x600 with 1 Axes>"
            ],
            "image/png": "[encoded data removed]"
          },
          "metadata": {}
        }
      ]
    },
    {
      "cell_type": "markdown",
      "source": [
        "### What did you know about your dataset?"
      ],
      "metadata": {
        "id": "H0kj-8xxnORC"
      }
    },
    {
      "cell_type": "markdown",
      "source": [
        "Data Source: Identify the source of the dataset, such as the NYC Taxi and Limousine Commission, and the specific data collection methods employed.\n",
        "\n",
        "Variables/Columns: Determine the columns present in the dataset and their corresponding meanings. The provided problem statement mentions variables like pick-up time, geographic coordinates, and number of passengers. It is important to understand the data types and potential relevance of each column to the problem at hand.\n",
        "\n",
        "Data Size: Determine the number of rows (instances) and columns (features) present in the dataset. This will give you an idea of the dataset's volume and the amount of information available.\n",
        "\n",
        "Missing Values: Assess the extent and distribution of missing values in the dataset. The heatmap visualization you provided is a useful tool for identifying missing values. It helps visualize the presence of missing data in different columns or variables. Missing values can affect the quality and reliability of analysis and model building, so it is important to handle them appropriately."
      ],
      "metadata": {
        "id": "gfoNAAC-nUe_"
      }
    },
    {
      "cell_type": "markdown",
      "source": [
        "## ***2. Understanding Your Variables***"
      ],
      "metadata": {
        "id": "nA9Y7ga8ng1Z"
      }
    },
    {
      "cell_type": "code",
      "source": [
        "# Dataset Columns\n",
        "data.columns"
      ],
      "metadata": {
        "id": "j7xfkqrt5Ag5",
        "colab": {
          "base_uri": "https://localhost:8080/"
        },
        "outputId": "ac59c5e1-4ff7-4006-8e9f-a79c00b52445"
      },
      "execution_count": null,
      "outputs": [
        {
          "output_type": "execute_result",
          "data": {
            "text/plain": [
              "Index(['id', 'vendor_id', 'pickup_datetime', 'dropoff_datetime',\n",
              "       'passenger_count', 'pickup_longitude', 'pickup_latitude',\n",
              "       'dropoff_longitude', 'dropoff_latitude', 'store_and_fwd_flag',\n",
              "       'trip_duration'],\n",
              "      dtype='object')"
            ]
          },
          "metadata": {},
          "execution_count": 17
        }
      ]
    },
    {
      "cell_type": "code",
      "source": [
        "# Dataset Describe\n",
        "data.describe()"
      ],
      "metadata": {
        "id": "DnOaZdaE5Q5t",
        "colab": {
          "base_uri": "https://localhost:8080/",
          "height": 300
        },
        "outputId": "982b9de0-22cc-4a19-fbdc-9cd55353fd14"
      },
      "execution_count": null,
      "outputs": [
        {
          "output_type": "execute_result",
          "data": {
            "text/plain": [
              "          vendor_id  passenger_count  pickup_longitude  pickup_latitude  \\\n",
              "count  1.458644e+06     1.458644e+06      1.458644e+06     1.458644e+06   \n",
              "mean   1.534950e+00     1.664530e+00     -7.397349e+01     4.075092e+01   \n",
              "std    4.987772e-01     1.314242e+00      7.090186e-02     3.288119e-02   \n",
              "min    1.000000e+00     0.000000e+00     -1.219333e+02     3.435970e+01   \n",
              "25%    1.000000e+00     1.000000e+00     -7.399187e+01     4.073735e+01   \n",
              "50%    2.000000e+00     1.000000e+00     -7.398174e+01     4.075410e+01   \n",
              "75%    2.000000e+00     2.000000e+00     -7.396733e+01     4.076836e+01   \n",
              "max    2.000000e+00     9.000000e+00     -6.133553e+01     5.188108e+01   \n",
              "\n",
              "       dropoff_longitude  dropoff_latitude  trip_duration  \n",
              "count       1.458644e+06      1.458644e+06   1.458644e+06  \n",
              "mean       -7.397342e+01      4.075180e+01   9.594923e+02  \n",
              "std         7.064327e-02      3.589056e-02   5.237432e+03  \n",
              "min        -1.219333e+02      3.218114e+01   1.000000e+00  \n",
              "25%        -7.399133e+01      4.073588e+01   3.970000e+02  \n",
              "50%        -7.397975e+01      4.075452e+01   6.620000e+02  \n",
              "75%        -7.396301e+01      4.076981e+01   1.075000e+03  \n",
              "max        -6.133553e+01      4.392103e+01   3.526282e+06  "
            ],
            "text/html": [
              "\n",
              "\n",
              "  <div id=\"df-cd5e68b1-78d9-4c4b-a986-9976ae7522f2\">\n",
              "    <div class=\"colab-df-container\">\n",
              "      <div>\n",
              "<style scoped>\n",
              "    .dataframe tbody tr th:only-of-type {\n",
              "        vertical-align: middle;\n",
              "    }\n",
              "\n",
              "    .dataframe tbody tr th {\n",
              "        vertical-align: top;\n",
              "    }\n",
              "\n",
              "    .dataframe thead th {\n",
              "        text-align: right;\n",
              "    }\n",
              "</style>\n",
              "<table border=\"1\" class=\"dataframe\">\n",
              "  <thead>\n",
              "    <tr style=\"text-align: right;\">\n",
              "      <th></th>\n",
              "      <th>vendor_id</th>\n",
              "      <th>passenger_count</th>\n",
              "      <th>pickup_longitude</th>\n",
              "      <th>pickup_latitude</th>\n",
              "      <th>dropoff_longitude</th>\n",
              "      <th>dropoff_latitude</th>\n",
              "      <th>trip_duration</th>\n",
              "    </tr>\n",
              "  </thead>\n",
              "  <tbody>\n",
              "    <tr>\n",
              "      <th>count</th>\n",
              "      <td>1.458644e+06</td>\n",
              "      <td>1.458644e+06</td>\n",
              "      <td>1.458644e+06</td>\n",
              "      <td>1.458644e+06</td>\n",
              "      <td>1.458644e+06</td>\n",
              "      <td>1.458644e+06</td>\n",
              "      <td>1.458644e+06</td>\n",
              "    </tr>\n",
              "    <tr>\n",
              "      <th>mean</th>\n",
              "      <td>1.534950e+00</td>\n",
              "      <td>1.664530e+00</td>\n",
              "      <td>-7.397349e+01</td>\n",
              "      <td>4.075092e+01</td>\n",
              "      <td>-7.397342e+01</td>\n",
              "      <td>4.075180e+01</td>\n",
              "      <td>9.594923e+02</td>\n",
              "    </tr>\n",
              "    <tr>\n",
              "      <th>std</th>\n",
              "      <td>4.987772e-01</td>\n",
              "      <td>1.314242e+00</td>\n",
              "      <td>7.090186e-02</td>\n",
              "      <td>3.288119e-02</td>\n",
              "      <td>7.064327e-02</td>\n",
              "      <td>3.589056e-02</td>\n",
              "      <td>5.237432e+03</td>\n",
              "    </tr>\n",
              "    <tr>\n",
              "      <th>min</th>\n",
              "      <td>1.000000e+00</td>\n",
              "      <td>0.000000e+00</td>\n",
              "      <td>-1.219333e+02</td>\n",
              "      <td>3.435970e+01</td>\n",
              "      <td>-1.219333e+02</td>\n",
              "      <td>3.218114e+01</td>\n",
              "      <td>1.000000e+00</td>\n",
              "    </tr>\n",
              "    <tr>\n",
              "      <th>25%</th>\n",
              "      <td>1.000000e+00</td>\n",
              "      <td>1.000000e+00</td>\n",
              "      <td>-7.399187e+01</td>\n",
              "      <td>4.073735e+01</td>\n",
              "      <td>-7.399133e+01</td>\n",
              "      <td>4.073588e+01</td>\n",
              "      <td>3.970000e+02</td>\n",
              "    </tr>\n",
              "    <tr>\n",
              "      <th>50%</th>\n",
              "      <td>2.000000e+00</td>\n",
              "      <td>1.000000e+00</td>\n",
              "      <td>-7.398174e+01</td>\n",
              "      <td>4.075410e+01</td>\n",
              "      <td>-7.397975e+01</td>\n",
              "      <td>4.075452e+01</td>\n",
              "      <td>6.620000e+02</td>\n",
              "    </tr>\n",
              "    <tr>\n",
              "      <th>75%</th>\n",
              "      <td>2.000000e+00</td>\n",
              "      <td>2.000000e+00</td>\n",
              "      <td>-7.396733e+01</td>\n",
              "      <td>4.076836e+01</td>\n",
              "      <td>-7.396301e+01</td>\n",
              "      <td>4.076981e+01</td>\n",
              "      <td>1.075000e+03</td>\n",
              "    </tr>\n",
              "    <tr>\n",
              "      <th>max</th>\n",
              "      <td>2.000000e+00</td>\n",
              "      <td>9.000000e+00</td>\n",
              "      <td>-6.133553e+01</td>\n",
              "      <td>5.188108e+01</td>\n",
              "      <td>-6.133553e+01</td>\n",
              "      <td>4.392103e+01</td>\n",
              "      <td>3.526282e+06</td>\n",
              "    </tr>\n",
              "  </tbody>\n",
              "</table>\n",
              "</div>\n",
              "      <button class=\"colab-df-convert\" onclick=\"convertToInteractive('df-cd5e68b1-78d9-4c4b-a986-9976ae7522f2')\"\n",
              "              title=\"Convert this dataframe to an interactive table.\"\n",
              "              style=\"display:none;\">\n",
              "\n",
              "  <svg xmlns=\"http://www.w3.org/2000/svg\" height=\"24px\"viewBox=\"0 0 24 24\"\n",
              "       width=\"24px\">\n",
              "    <path d=\"M0 0h24v24H0V0z\" fill=\"none\"/>\n",
              "    <path d=\"M18.56 5.44l.94 2.06.94-2.06 2.06-.94-2.06-.94-.94-2.06-.94 2.06-2.06.94zm-11 1L8.5 8.5l.94-2.06 2.06-.94-2.06-.94L8.5 2.5l-.94 2.06-2.06.94zm10 10l.94 2.06.94-2.06 2.06-.94-2.06-.94-.94-2.06-.94 2.06-2.06.94z\"/><path d=\"M17.41 7.96l-1.37-1.37c-.4-.4-.92-.59-1.43-.59-.52 0-1.04.2-1.43.59L10.3 9.45l-7.72 7.72c-.78.78-.78 2.05 0 2.83L4 21.41c.39.39.9.59 1.41.59.51 0 1.02-.2 1.41-.59l7.78-7.78 2.81-2.81c.8-.78.8-2.07 0-2.86zM5.41 20L4 18.59l7.72-7.72 1.47 1.35L5.41 20z\"/>\n",
              "  </svg>\n",
              "      </button>\n",
              "\n",
              "\n",
              "\n",
              "    <div id=\"df-2fe520cb-69cf-48c3-8f5a-1412656cb44d\">\n",
              "      <button class=\"colab-df-quickchart\" onclick=\"quickchart('df-2fe520cb-69cf-48c3-8f5a-1412656cb44d')\"\n",
              "              title=\"Suggest charts.\"\n",
              "              style=\"display:none;\">\n",
              "\n",
              "<svg xmlns=\"http://www.w3.org/2000/svg\" height=\"24px\"viewBox=\"0 0 24 24\"\n",
              "     width=\"24px\">\n",
              "    <g>\n",
              "        <path d=\"M19 3H5c-1.1 0-2 .9-2 2v14c0 1.1.9 2 2 2h14c1.1 0 2-.9 2-2V5c0-1.1-.9-2-2-2zM9 17H7v-7h2v7zm4 0h-2V7h2v10zm4 0h-2v-4h2v4z\"/>\n",
              "    </g>\n",
              "</svg>\n",
              "      </button>\n",
              "    </div>\n",
              "\n",
              "<style>\n",
              "  .colab-df-quickchart {\n",
              "    background-color: #E8F0FE;\n",
              "    border: none;\n",
              "    border-radius: 50%;\n",
              "    cursor: pointer;\n",
              "    display: none;\n",
              "    fill: #1967D2;\n",
              "    height: 32px;\n",
              "    padding: 0 0 0 0;\n",
              "    width: 32px;\n",
              "  }\n",
              "\n",
              "  .colab-df-quickchart:hover {\n",
              "    background-color: #E2EBFA;\n",
              "    box-shadow: 0px 1px 2px rgba(60, 64, 67, 0.3), 0px 1px 3px 1px rgba(60, 64, 67, 0.15);\n",
              "    fill: #174EA6;\n",
              "  }\n",
              "\n",
              "  [theme=dark] .colab-df-quickchart {\n",
              "    background-color: #3B4455;\n",
              "    fill: #D2E3FC;\n",
              "  }\n",
              "\n",
              "  [theme=dark] .colab-df-quickchart:hover {\n",
              "    background-color: #434B5C;\n",
              "    box-shadow: 0px 1px 3px 1px rgba(0, 0, 0, 0.15);\n",
              "    filter: drop-shadow(0px 1px 2px rgba(0, 0, 0, 0.3));\n",
              "    fill: #FFFFFF;\n",
              "  }\n",
              "</style>\n",
              "\n",
              "    <script>\n",
              "      async function quickchart(key) {\n",
              "        const containerElement = document.querySelector('#' + key);\n",
              "        const charts = await google.colab.kernel.invokeFunction(\n",
              "            'suggestCharts', [key], {});\n",
              "      }\n",
              "    </script>\n",
              "\n",
              "      <script>\n",
              "\n",
              "function displayQuickchartButton(domScope) {\n",
              "  let quickchartButtonEl =\n",
              "    domScope.querySelector('#df-2fe520cb-69cf-48c3-8f5a-1412656cb44d button.colab-df-quickchart');\n",
              "  quickchartButtonEl.style.display =\n",
              "    google.colab.kernel.accessAllowed ? 'block' : 'none';\n",
              "}\n",
              "\n",
              "        displayQuickchartButton(document);\n",
              "      </script>\n",
              "      <style>\n",
              "    .colab-df-container {\n",
              "      display:flex;\n",
              "      flex-wrap:wrap;\n",
              "      gap: 12px;\n",
              "    }\n",
              "\n",
              "    .colab-df-convert {\n",
              "      background-color: #E8F0FE;\n",
              "      border: none;\n",
              "      border-radius: 50%;\n",
              "      cursor: pointer;\n",
              "      display: none;\n",
              "      fill: #1967D2;\n",
              "      height: 32px;\n",
              "      padding: 0 0 0 0;\n",
              "      width: 32px;\n",
              "    }\n",
              "\n",
              "    .colab-df-convert:hover {\n",
              "      background-color: #E2EBFA;\n",
              "      box-shadow: 0px 1px 2px rgba(60, 64, 67, 0.3), 0px 1px 3px 1px rgba(60, 64, 67, 0.15);\n",
              "      fill: #174EA6;\n",
              "    }\n",
              "\n",
              "    [theme=dark] .colab-df-convert {\n",
              "      background-color: #3B4455;\n",
              "      fill: #D2E3FC;\n",
              "    }\n",
              "\n",
              "    [theme=dark] .colab-df-convert:hover {\n",
              "      background-color: #434B5C;\n",
              "      box-shadow: 0px 1px 3px 1px rgba(0, 0, 0, 0.15);\n",
              "      filter: drop-shadow(0px 1px 2px rgba(0, 0, 0, 0.3));\n",
              "      fill: #FFFFFF;\n",
              "    }\n",
              "  </style>\n",
              "\n",
              "      <script>\n",
              "        const buttonEl =\n",
              "          document.querySelector('#df-cd5e68b1-78d9-4c4b-a986-9976ae7522f2 button.colab-df-convert');\n",
              "        buttonEl.style.display =\n",
              "          google.colab.kernel.accessAllowed ? 'block' : 'none';\n",
              "\n",
              "        async function convertToInteractive(key) {\n",
              "          const element = document.querySelector('#df-cd5e68b1-78d9-4c4b-a986-9976ae7522f2');\n",
              "          const dataTable =\n",
              "            await google.colab.kernel.invokeFunction('convertToInteractive',\n",
              "                                                     [key], {});\n",
              "          if (!dataTable) return;\n",
              "\n",
              "          const docLinkHtml = 'Like what you see? Visit the ' +\n",
              "            '<a target=\"_blank\" href=https://colab.research.google.com/notebooks/data_table.ipynb>data table notebook</a>'\n",
              "            + ' to learn more about interactive tables.';\n",
              "          element.innerHTML = '';\n",
              "          dataTable['output_type'] = 'display_data';\n",
              "          await google.colab.output.renderOutput(dataTable, element);\n",
              "          const docLink = document.createElement('div');\n",
              "          docLink.innerHTML = docLinkHtml;\n",
              "          element.appendChild(docLink);\n",
              "        }\n",
              "      </script>\n",
              "    </div>\n",
              "  </div>\n"
            ]
          },
          "metadata": {},
          "execution_count": 18
        }
      ]
    },
    {
      "cell_type": "markdown",
      "source": [
        "### Variables Description"
      ],
      "metadata": {
        "id": "PBTbrJXOngz2"
      }
    },
    {
      "cell_type": "markdown",
      "source": [
        "count: The number of non-missing values for each variable.\n",
        "mean: The average value of each variable.\n",
        "std: The standard deviation, which measures the dispersion of values around the mean.\n",
        "min: The minimum value observed for each variable.\n",
        "25%: The first quartile, also known as the lower quartile or 25th percentile.\n",
        "50%: The median, representing the middle value of the distribution.\n",
        "75%: The third quartile, also known as the upper quartile or 75th percentile.\n",
        "max: The maximum value observed for each variable."
      ],
      "metadata": {
        "id": "aJV4KIxSnxay"
      }
    },
    {
      "cell_type": "markdown",
      "source": [
        "### Check Unique Values for each variable."
      ],
      "metadata": {
        "id": "u3PMJOP6ngxN"
      }
    },
    {
      "cell_type": "code",
      "source": [
        "# Check Unique Values for each variable.\n",
        "data.nunique()"
      ],
      "metadata": {
        "id": "zms12Yq5n-jE",
        "colab": {
          "base_uri": "https://localhost:8080/"
        },
        "outputId": "5c9ce1db-bd5d-4634-c669-39e62666e6e9"
      },
      "execution_count": null,
      "outputs": [
        {
          "output_type": "execute_result",
          "data": {
            "text/plain": [
              "id                    1458644\n",
              "vendor_id                   2\n",
              "pickup_datetime       1380222\n",
              "dropoff_datetime      1380377\n",
              "passenger_count            10\n",
              "pickup_longitude        23047\n",
              "pickup_latitude         45245\n",
              "dropoff_longitude       33821\n",
              "dropoff_latitude        62519\n",
              "store_and_fwd_flag          2\n",
              "trip_duration            7417\n",
              "dtype: int64"
            ]
          },
          "metadata": {},
          "execution_count": 19
        }
      ]
    },
    {
      "cell_type": "markdown",
      "source": [
        "## 3. ***Data Wrangling***"
      ],
      "metadata": {
        "id": "dauF4eBmngu3"
      }
    },
    {
      "cell_type": "markdown",
      "source": [
        "### Data Wrangling Code"
      ],
      "metadata": {
        "id": "bKJF3rekwFvQ"
      }
    },
    {
      "cell_type": "code",
      "source": [
        "# Write your code to make your dataset analysis ready.\n",
        "# What is the average trip duration for all trips?\n",
        "average_trip_duration = data[\"trip_duration\"].mean()\n",
        "\n",
        "print(\"The average trip duration is\", average_trip_duration, \"seconds.\")"
      ],
      "metadata": {
        "id": "wk-9a2fpoLcV",
        "colab": {
          "base_uri": "https://localhost:8080/"
        },
        "outputId": "67f3f163-195d-49e0-98e9-e9f58e1bfe66"
      },
      "execution_count": null,
      "outputs": [
        {
          "output_type": "stream",
          "name": "stdout",
          "text": [
            "The average trip duration is 959.4922729603659 seconds.\n"
          ]
        }
      ]
    },
    {
      "cell_type": "code",
      "source": [
        "# What is the average trip duration for trips taken by 1 passenger?\n",
        "average_trip_duration_1_passenger = data[data[\"passenger_count\"] == 1][\"trip_duration\"].mean()\n",
        "\n",
        "print(\"The average trip duration for trips taken by 1 passenger is\", average_trip_duration_1_passenger, \"seconds.\")\n"
      ],
      "metadata": {
        "colab": {
          "base_uri": "https://localhost:8080/"
        },
        "id": "P2YYW_jJbwxu",
        "outputId": "6eb76467-2eb0-4d01-a12f-4320b27c96c4"
      },
      "execution_count": null,
      "outputs": [
        {
          "output_type": "stream",
          "name": "stdout",
          "text": [
            "The average trip duration for trips taken by 1 passenger is 930.3997532751514 seconds.\n"
          ]
        }
      ]
    },
    {
      "cell_type": "code",
      "source": [
        "# What is the average trip duration for trips taken during rush hour?\n",
        "rush_hour_start_time = \"07:00:00\"\n",
        "rush_hour_end_time = \"09:00:00\"\n",
        "\n",
        "average_trip_duration_rush_hour = data[data[\"pickup_datetime\"].between(rush_hour_start_time, rush_hour_end_time)][\"trip_duration\"].mean()\n",
        "\n",
        "print(\"The average trip duration for trips taken during rush hour is\", average_trip_duration_rush_hour, \"seconds.\")"
      ],
      "metadata": {
        "colab": {
          "base_uri": "https://localhost:8080/"
        },
        "id": "C_4NU-RycE_y",
        "outputId": "997afe76-94c9-435f-d677-b06b0d964d5a"
      },
      "execution_count": null,
      "outputs": [
        {
          "output_type": "stream",
          "name": "stdout",
          "text": [
            "The average trip duration for trips taken during rush hour is nan seconds.\n"
          ]
        }
      ]
    },
    {
      "cell_type": "code",
      "source": [
        "# What is the average trip duration for trips taken from Manhattan to Brooklyn?\n",
        "manhattan_latitude = 40.712784\n",
        "manhattan_longitude = -74.005941\n",
        "brooklyn_latitude = 40.650082\n",
        "brooklyn_longitude = -73.978456\n",
        "\n",
        "average_trip_duration_manhattan_brooklyn = data[(data[\"pickup_latitude\"] > manhattan_latitude - 0.1) &\n",
        "                                              (data[\"pickup_latitude\"] < manhattan_latitude + 0.1) &\n",
        "                                              (data[\"pickup_longitude\"] > manhattan_longitude - 0.1) &\n",
        "                                              (data[\"pickup_longitude\"] < manhattan_longitude + 0.1) &\n",
        "                                              (data[\"dropoff_latitude\"] > brooklyn_latitude - 0.1) &\n",
        "                                              (data[\"dropoff_latitude\"] < brooklyn_latitude + 0.1) &\n",
        "                                              (data[\"dropoff_longitude\"] > brooklyn_longitude - 0.1) &\n",
        "                                              (data[\"dropoff_longitude\"] < brooklyn_longitude + 0.1)][\"trip_duration\"].mean()\n",
        "\n",
        "print(\"The average trip duration for trips taken from Manhattan to Brooklyn is\", average_trip_duration_manhattan_brooklyn, \"seconds.\")\n"
      ],
      "metadata": {
        "colab": {
          "base_uri": "https://localhost:8080/"
        },
        "id": "DwE4fGtRcYSb",
        "outputId": "3d120778-d97a-4880-dd7b-1d260a6637c0"
      },
      "execution_count": null,
      "outputs": [
        {
          "output_type": "stream",
          "name": "stdout",
          "text": [
            "The average trip duration for trips taken from Manhattan to Brooklyn is 892.3860365987057 seconds.\n"
          ]
        }
      ]
    },
    {
      "cell_type": "code",
      "source": [
        "# What is the average trip duration for trips taken by different taxi vendors?\n",
        "vendor_1_average_trip_duration = data[data[\"vendor_id\"] == 1][\"trip_duration\"].mean()\n",
        "vendor_2_average_trip_duration = data[data[\"vendor_id\"] == 2][\"trip_duration\"].mean()\n",
        "\n",
        "print(\"The average trip duration for trips taken by Vendor 1 is\", vendor_1_average_trip_duration, \"seconds.\")\n",
        "print(\"The average trip duration for trips taken by Vendor 2 is\", vendor_2_average_trip_duration, \"seconds.\")\n",
        "\n",
        "\n"
      ],
      "metadata": {
        "colab": {
          "base_uri": "https://localhost:8080/"
        },
        "id": "K2qRNpNRdSZm",
        "outputId": "acbc19ab-f821-4904-b3a7-26c34d876f18"
      },
      "execution_count": null,
      "outputs": [
        {
          "output_type": "stream",
          "name": "stdout",
          "text": [
            "The average trip duration for trips taken by Vendor 1 is 845.4382435408687 seconds.\n",
            "The average trip duration for trips taken by Vendor 2 is 1058.6431638006823 seconds.\n"
          ]
        }
      ]
    },
    {
      "cell_type": "code",
      "source": [
        " # How does the average trip duration vary across different days of the week?\n",
        "data['pickup_datetime'] = pd.to_datetime(data['pickup_datetime'])\n",
        "\n",
        "# Extract the day of the week from pickup datetime\n",
        "data['pickup_dayofweek'] = data['pickup_datetime'].dt.dayofweek\n",
        "\n",
        "# Calculate the average trip duration per day of the week\n",
        "avg_trip_duration = data.groupby('pickup_dayofweek')['trip_duration'].mean()\n"
      ],
      "metadata": {
        "id": "hhHLwQdcdryu"
      },
      "execution_count": null,
      "outputs": []
    },
    {
      "cell_type": "code",
      "source": [
        "# What is the correlation between the number of passengers and trip duration?\n",
        "correlation = data['passenger_count'].corr(data['trip_duration'])"
      ],
      "metadata": {
        "id": "L3f0JnklgUvc"
      },
      "execution_count": null,
      "outputs": []
    },
    {
      "cell_type": "code",
      "source": [
        "# What is the distribution of trip durations in minutes?\n",
        "data['trip_duration_min'] = data['trip_duration'] / 60"
      ],
      "metadata": {
        "id": "mtz0pwmng4q0"
      },
      "execution_count": null,
      "outputs": []
    },
    {
      "cell_type": "markdown",
      "source": [
        "### What all manipulations have you done and insights you found?"
      ],
      "metadata": {
        "id": "MSa1f5Uengrz"
      }
    },
    {
      "cell_type": "markdown",
      "source": [
        "Average Trip Duration for All Trips:\n",
        "\n",
        "Calculated the mean of the \"trip_duration\" column using data[\"trip_duration\"].mean().\n",
        "This provides the average trip duration for all trips.\n",
        "Average Trip Duration for Trips Taken by 1 Passenger:\n",
        "\n",
        "Filtered the dataset for trips where the \"passenger_count\" is 1 using data[data[\"passenger_count\"] == 1].\n",
        "Calculated the mean of the \"trip_duration\" column for these filtered trips.\n",
        "This provides the average trip duration for trips taken by 1 passenger.\n",
        "Average Trip Duration for Trips Taken During Rush Hour:\n",
        "\n",
        "Defined the start and end times for rush hour as variables rush_hour_start_time and rush_hour_end_time.\n",
        "Filtered the dataset for trips where the \"pickup_datetime\" falls within the specified rush hour using .between().\n",
        "Calculated the mean of the \"trip_duration\" column for these filtered trips.\n",
        "This provides the average trip duration for trips taken during rush hour.\n",
        "Average Trip Duration for Trips Taken from Manhattan to Brooklyn:\n",
        "\n",
        "Defined latitude and longitude ranges for Manhattan and Brooklyn.\n",
        "Filtered the dataset for trips where the pickup and drop-off locations fall within the specified latitude and longitude ranges.\n",
        "Calculated the mean of the \"trip_duration\" column for these filtered trips.\n",
        "This provides the average trip duration for trips taken from Manhattan to Brooklyn.\n",
        "Average Trip Duration for Trips Taken by Different Taxi Vendors:\n",
        "\n",
        "Filtered the dataset for trips taken by each taxi vendor separately using data[data[\"vendor_id\"] == 1] and data[data[\"vendor_id\"] == 2].\n",
        "Calculated the mean of the \"trip_duration\" column for each filtered dataset.\n",
        "This provides the average trip duration for trips taken by each taxi vendor.\n",
        "Average Trip Duration Variation Across Different Days of the Week:\n",
        "\n",
        "Converted the \"pickup_datetime\" column to datetime format using pd.to_datetime().\n",
        "Extracted the day of the week from the pickup datetime using .dt.dayofweek.\n",
        "Grouped the data by \"pickup_dayofweek\" and calculated the mean of the \"trip_duration\" column.\n",
        "This provides the average trip duration for each day of the week.\n",
        "Correlation between Number of Passengers and Trip Duration:\n",
        "\n",
        "Calculated the correlation coefficient between the \"passenger_count\" and \"trip_duration\" columns using .corr().\n",
        "This measures the linear relationship between the two variables.\n",
        "Distribution of Trip Durations in Minutes:\n",
        "\n",
        "Created a new column \"trip_duration_min\" by dividing the \"trip_duration\" column by 60 to convert it to minutes.\n",
        "This allows for analyzing the distribution of trip durations in a more interpretable unit."
      ],
      "metadata": {
        "id": "LbyXE7I1olp8"
      }
    },
    {
      "cell_type": "markdown",
      "source": [
        "## ***4. Data Vizualization, Storytelling & Experimenting with charts : Understand the relationships between variables***"
      ],
      "metadata": {
        "id": "GF8Ens_Soomf"
      }
    },
    {
      "cell_type": "markdown",
      "source": [
        "#### Chart - 1"
      ],
      "metadata": {
        "id": "0wOQAZs5pc--"
      }
    },
    {
      "cell_type": "code",
      "source": [
        "# Chart - 1 visualization code\n",
        "plt.hist(data[\"trip_duration\"], bins=100)\n",
        "plt.title(\"Distribution of Trip Durations\")\n",
        "plt.xlabel(\"Trip Duration (seconds)\")\n",
        "plt.ylabel(\"Number of Trips\")\n",
        "\n",
        "plt.show()"
      ],
      "metadata": {
        "id": "7v_ESjsspbW7",
        "colab": {
          "base_uri": "https://localhost:8080/",
          "height": 472
        },
        "outputId": "a3b9d2e5-6ac3-4aab-828d-61360384ee9e"
      },
      "execution_count": null,
      "outputs": [
        {
          "output_type": "display_data",
          "data": {
            "text/plain": [
              "<Figure size 640x480 with 1 Axes>"
            ],
            "image/png": "[encoded data removed]"
          },
          "metadata": {}
        }
      ]
    },
    {
      "cell_type": "markdown",
      "source": [
        "##### 1. Why did you pick the specific chart?"
      ],
      "metadata": {
        "id": "K5QZ13OEpz2H"
      }
    },
    {
      "cell_type": "markdown",
      "source": [
        "The code snippet provided utilizes a histogram to visualize the distribution of trip durations in the dataset. A histogram is a suitable choice for exploring the frequency or count of values within a continuous variable, which aligns with the goal of understanding the distribution of trip durations."
      ],
      "metadata": {
        "id": "XESiWehPqBRc"
      }
    },
    {
      "cell_type": "markdown",
      "source": [
        "##### 2. What is/are the insight(s) found from the chart?"
      ],
      "metadata": {
        "id": "lQ7QKXXCp7Bj"
      }
    },
    {
      "cell_type": "markdown",
      "source": [
        "The histogram visualizes the distribution of trip durations, representing the number of trips on the y-axis and the trip duration values on the x-axis. Some potential insights that can be derived from the chart include:\n",
        "\n",
        "The shape of the distribution: The histogram shape can provide insights into the overall pattern of trip durations. It can reveal whether the durations are concentrated in a particular range or if there are any significant outliers or long-tail distributions.\n",
        "Common trip durations: The bars in the histogram indicate the frequency of trips within specific duration ranges. By examining the bars, you can identify the most common trip durations and assess the overall trend."
      ],
      "metadata": {
        "id": "C_j1G7yiqdRP"
      }
    },
    {
      "cell_type": "markdown",
      "source": [
        "##### 3. Will the gained insights help creating a positive business impact?\n",
        "Are there any insights that lead to negative growth? Justify with specific reason."
      ],
      "metadata": {
        "id": "448CDAPjqfQr"
      }
    },
    {
      "cell_type": "markdown",
      "source": [
        "Operational Efficiency: Understanding the distribution of trip durations can aid in better resource allocation and planning. It can help taxi service providers estimate waiting times, optimize dispatching, and manage driver schedules more effectively.\n",
        "Customer Experience: Analyzing trip durations can provide insights into the average travel time, allowing taxi companies to set realistic expectations for passengers. This can help manage customer satisfaction and improve service quality."
      ],
      "metadata": {
        "id": "3cspy4FjqxJW"
      }
    },
    {
      "cell_type": "markdown",
      "source": [
        "#### Chart - 2"
      ],
      "metadata": {
        "id": "KSlN3yHqYklG"
      }
    },
    {
      "cell_type": "code",
      "source": [
        "# Chart - 2 visualization code\n",
        "plt.hist(data[data[\"passenger_count\"] == 1][\"trip_duration\"], bins=100)\n",
        "plt.title(\"Distribution of Trip Durations for 1-Passenger Trips\")\n",
        "plt.xlabel(\"Trip Duration (seconds)\")\n",
        "plt.ylabel(\"Number of Trips\")\n",
        "\n",
        "plt.show()"
      ],
      "metadata": {
        "id": "R4YgtaqtYklH",
        "colab": {
          "base_uri": "https://localhost:8080/",
          "height": 472
        },
        "outputId": "31f21346-2009-4063-93c6-594c15ad3be3"
      },
      "execution_count": null,
      "outputs": [
        {
          "output_type": "display_data",
          "data": {
            "text/plain": [
              "<Figure size 640x480 with 1 Axes>"
            ],
            "image/png": "[encoded data removed]"
          },
          "metadata": {}
        }
      ]
    },
    {
      "cell_type": "markdown",
      "source": [
        "##### . Will the gained insights help creating a positive business impact?\n",
        "Are there any insights that lead to negative growth? Justify with specific reason."
      ],
      "metadata": {
        "id": "-JiQyfWJYklI"
      }
    },
    {
      "cell_type": "markdown",
      "source": [
        "The gained insights from analyzing the distribution of trip durations can indeed help create a positive business impact. Understanding the patterns and characteristics of trip durations can lead to several beneficial outcomes for a taxi service provider, as mentioned earlier.\n",
        "\n",
        "However, it is important to note that while insights derived from data analysis can provide valuable information, the impact on business growth ultimately depends on how these insights are utilized and implemented. Here are a few scenarios where insights may potentially lead to negative growth:"
      ],
      "metadata": {
        "id": "BcBbebzrYklV"
      }
    },
    {
      "cell_type": "markdown",
      "source": [
        "#### Chart - 3"
      ],
      "metadata": {
        "id": "EM7whBJCYoAo"
      }
    },
    {
      "cell_type": "code",
      "source": [
        "# Chart - 3 visualization code\n",
        "plt.hist(data[data[\"pickup_datetime\"].between(rush_hour_start_time, rush_hour_end_time)][\"trip_duration\"], bins=100)\n",
        "plt.title(\"Distribution of Trip Durations for Rush Hour Trips\")\n",
        "plt.xlabel(\"Trip Duration (seconds)\")\n",
        "plt.ylabel(\"Number of Trips\")\n",
        "\n",
        "plt.show()\n"
      ],
      "metadata": {
        "id": "t6GMdE67YoAp",
        "colab": {
          "base_uri": "https://localhost:8080/",
          "height": 472
        },
        "outputId": "3ebb544e-1515-4273-a577-5a666509594a"
      },
      "execution_count": null,
      "outputs": [
        {
          "output_type": "display_data",
          "data": {
            "text/plain": [
              "<Figure size 640x480 with 1 Axes>"
            ],
            "image/png": "[encoded data removed]"
          },
          "metadata": {}
        }
      ]
    },
    {
      "cell_type": "markdown",
      "source": [
        "##### 1. Why did you pick the specific chart?"
      ],
      "metadata": {
        "id": "fge-S5ZAYoAp"
      }
    },
    {
      "cell_type": "markdown",
      "source": [
        "The code snippet uses a histogram to visualize the distribution of trip durations specifically for rush hour trips. The histogram is a suitable choice to observe the frequency or count of trip durations within the rush hour timeframe."
      ],
      "metadata": {
        "id": "5dBItgRVYoAp"
      }
    },
    {
      "cell_type": "markdown",
      "source": [
        "##### 2. What is/are the insight(s) found from the chart?"
      ],
      "metadata": {
        "id": "85gYPyotYoAp"
      }
    },
    {
      "cell_type": "markdown",
      "source": [
        "Duration Peaks: The chart can reveal whether there are any specific ranges of trip durations that occur more frequently during rush hour. Peaks or higher frequencies in certain duration bins can indicate common trip durations during this busy time period."
      ],
      "metadata": {
        "id": "4jstXR6OYoAp"
      }
    },
    {
      "cell_type": "markdown",
      "source": [
        "##### 3. Will the gained insights help creating a positive business impact?\n",
        "Are there any insights that lead to negative growth? Justify with specific reason."
      ],
      "metadata": {
        "id": "RoGjAbkUYoAp"
      }
    },
    {
      "cell_type": "markdown",
      "source": [
        "By leveraging insights gained from analyzing trip durations during rush hour, businesses can make informed decisions and take proactive measures to improve operational efficiency, enhance customer experience, and drive positive business impact."
      ],
      "metadata": {
        "id": "zfJ8IqMcYoAp"
      }
    },
    {
      "cell_type": "markdown",
      "source": [
        "#### Chart - 4"
      ],
      "metadata": {
        "id": "4Of9eVA-YrdM"
      }
    },
    {
      "cell_type": "code",
      "source": [
        "# Chart - 4 visualization code\n",
        "plt.hist(data[(data[\"pickup_latitude\"] > manhattan_latitude - 0.1) &\n",
        "              (data[\"pickup_latitude\"] < manhattan_latitude + 0.1) &\n",
        "              (data[\"pickup_longitude\"] > manhattan_longitude - 0.1) &\n",
        "              (data[\"pickup_longitude\"] < manhattan_longitude + 0.1) &\n",
        "              (data[\"dropoff_latitude\"] > brooklyn_latitude - 0.1) &\n",
        "              (data[\"dropoff_latitude\"] < brooklyn_latitude + 0.1) &\n",
        "              (data[\"dropoff_longitude\"] > brooklyn_longitude - 0.1) &\n",
        "              (data[\"dropoff_longitude\"] < brooklyn_longitude + 0.1)][\"trip_duration\"], bins=100)\n",
        "plt.title(\"Distribution of Trip Durations for Manhattan-Brooklyn Trips\")\n",
        "plt.xlabel(\"Trip Duration (seconds)\")\n",
        "plt.ylabel(\"Number of Trips\")\n",
        "\n",
        "plt.show()\n"
      ],
      "metadata": {
        "id": "irlUoxc8YrdO",
        "colab": {
          "base_uri": "https://localhost:8080/",
          "height": 472
        },
        "outputId": "dd86b206-906d-4cda-8784-62c67ce24519"
      },
      "execution_count": null,
      "outputs": [
        {
          "output_type": "display_data",
          "data": {
            "text/plain": [
              "<Figure size 640x480 with 1 Axes>"
            ],
            "image/png": "[encoded data removed]"
          },
          "metadata": {}
        }
      ]
    },
    {
      "cell_type": "markdown",
      "source": [
        "##### 1. Why did you pick the specific chart?"
      ],
      "metadata": {
        "id": "iky9q4vBYrdO"
      }
    },
    {
      "cell_type": "markdown",
      "source": [
        "The code snippet uses a histogram to visualize the distribution of trip durations specifically for trips taken from Manhattan to Brooklyn. The histogram is an appropriate choice for understanding the frequency or count of trip durations within this specific route."
      ],
      "metadata": {
        "id": "aJRCwT6DYrdO"
      }
    },
    {
      "cell_type": "markdown",
      "source": [
        "##### 2. What is/are the insight(s) found from the chart?"
      ],
      "metadata": {
        "id": "F6T5p64dYrdO"
      }
    },
    {
      "cell_type": "markdown",
      "source": [
        "Average Trip Duration: The central tendency of the distribution, such as the mean or mode, provides an estimate of the average trip duration for trips from Manhattan to Brooklyn. This helps understand the typical duration of trips on this route.\n",
        "Variation and Outliers: The histogram shows the spread or dispersion of trip durations for this specific route. A wider distribution with longer tails may indicate a greater variation in trip durations. Outliers or extremely long trip durations can also be identified."
      ],
      "metadata": {
        "id": "Xx8WAJvtYrdO"
      }
    },
    {
      "cell_type": "markdown",
      "source": [
        "##### 3. Will the gained insights help creating a positive business impact?\n",
        "Are there any insights that lead to negative growth? Justify with specific reason."
      ],
      "metadata": {
        "id": "y-Ehk30pYrdP"
      }
    },
    {
      "cell_type": "markdown",
      "source": [
        "Route Planning and Optimization: Understanding the trip duration distribution for this route enables businesses to plan and optimize their services accordingly. By having insights into the common trip durations, companies can allocate resources efficiently, streamline operations, and reduce waiting times for passengers traveling between Manhattan and Brooklyn.|"
      ],
      "metadata": {
        "id": "jLNxxz7MYrdP"
      }
    },
    {
      "cell_type": "markdown",
      "source": [
        "#### Chart - 5"
      ],
      "metadata": {
        "id": "bamQiAODYuh1"
      }
    },
    {
      "cell_type": "code",
      "source": [
        "# Chart - 5 visualization code\n",
        "plt.bar([\"Vendor 1\", \"Vendor 2\"], [vendor_1_average_trip_duration, vendor_2_average_trip_duration])\n",
        "plt.title(\"Average Trip Duration by Vendor\")\n",
        "plt.xlabel(\"Vendor\")\n",
        "plt.ylabel(\"Average Trip Duration (seconds)\")\n",
        "\n",
        "plt.show()"
      ],
      "metadata": {
        "id": "TIJwrbroYuh3",
        "colab": {
          "base_uri": "https://localhost:8080/",
          "height": 472
        },
        "outputId": "40e0f048-eb74-47f9-837e-799a9c0d7160"
      },
      "execution_count": null,
      "outputs": [
        {
          "output_type": "display_data",
          "data": {
            "text/plain": [
              "<Figure size 640x480 with 1 Axes>"
            ],
            "image/png": "[encoded data removed]"
          },
          "metadata": {}
        }
      ]
    },
    {
      "cell_type": "markdown",
      "source": [
        "##### 1. Why did you pick the specific chart?"
      ],
      "metadata": {
        "id": "QHF8YVU7Yuh3"
      }
    },
    {
      "cell_type": "markdown",
      "source": [
        "The code snippet uses a bar chart to compare the average trip duration between two taxi vendors. A bar chart is suitable for visually comparing different categories or groups, in this case, the vendors."
      ],
      "metadata": {
        "id": "dcxuIMRPYuh3"
      }
    },
    {
      "cell_type": "markdown",
      "source": [
        "##### 2. What is/are the insight(s) found from the chart?"
      ],
      "metadata": {
        "id": "GwzvFGzlYuh3"
      }
    },
    {
      "cell_type": "markdown",
      "source": [
        "Comparison of Vendors: The chart clearly compares the average trip durations between Vendor 1 and Vendor 2. The heights of the bars represent the average trip durations for each vendor, allowing for a direct comparison between the two.\n",
        "Performance Differences: The chart visually highlights any differences in average trip durations between the vendors. It can help identify whether one vendor tends to have longer or shorter trip durations compared to the other."
      ],
      "metadata": {
        "id": "uyqkiB8YYuh3"
      }
    },
    {
      "cell_type": "markdown",
      "source": [
        "##### 3. Will the gained insights help creating a positive business impact?\n",
        "Are there any insights that lead to negative growth? Justify with specific reason."
      ],
      "metadata": {
        "id": "qYpmQ266Yuh3"
      }
    },
    {
      "cell_type": "markdown",
      "source": [
        "By utilizing insights gained from comparing the average trip durations between taxi vendors, businesses can make data-driven decisions, optimize vendor selection, improve operational efficiency, and negotiate favorable terms. These actions have the potential to positively impact service quality, customer satisfaction, and overall business performance."
      ],
      "metadata": {
        "id": "_WtzZ_hCYuh4"
      }
    },
    {
      "cell_type": "markdown",
      "source": [
        "#### Chart - 6"
      ],
      "metadata": {
        "id": "OH-pJp9IphqM"
      }
    },
    {
      "cell_type": "code",
      "source": [
        "# Chart - 6 visualization code\n",
        "days = ['Monday', 'Tuesday', 'Wednesday', 'Thursday', 'Friday', 'Saturday', 'Sunday']\n",
        "plt.plot(days, avg_trip_duration)\n",
        "plt.xlabel('Day of the Week')\n",
        "plt.ylabel('Average Trip Duration (seconds)')\n",
        "plt.title('Average Trip Duration by Day of the Week')\n",
        "plt.show()"
      ],
      "metadata": {
        "id": "kuRf4wtuphqN",
        "colab": {
          "base_uri": "https://localhost:8080/",
          "height": 472
        },
        "outputId": "8a2ed222-9ba4-43b6-e00f-b3dc552bda33"
      },
      "execution_count": null,
      "outputs": [
        {
          "output_type": "display_data",
          "data": {
            "text/plain": [
              "<Figure size 640x480 with 1 Axes>"
            ],
            "image/png": "[encoded data removed]"
          },
          "metadata": {}
        }
      ]
    },
    {
      "cell_type": "markdown",
      "source": [
        "##### 1. Why did you pick the specific chart?"
      ],
      "metadata": {
        "id": "bbFf2-_FphqN"
      }
    },
    {
      "cell_type": "markdown",
      "source": [
        "I picked a line chart for this visualization because it is suitable for displaying trends or patterns over a continuous range of values, such as the average trip duration over the days of the week. The line chart helps to visualize the variations in trip duration across different days."
      ],
      "metadata": {
        "id": "loh7H2nzphqN"
      }
    },
    {
      "cell_type": "markdown",
      "source": [
        "##### 2. What is/are the insight(s) found from the chart?"
      ],
      "metadata": {
        "id": "_ouA3fa0phqN"
      }
    },
    {
      "cell_type": "markdown",
      "source": [
        "From the chart, we can gain insights into the average trip duration based on the day of the week. By looking at the line plot, we can observe whether there are any noticeable patterns or trends in trip duration over the course of a week. For example, we can see if there are any days with consistently longer or shorter trip durations."
      ],
      "metadata": {
        "id": "VECbqPI7phqN"
      }
    },
    {
      "cell_type": "markdown",
      "source": [
        "##### 3. Will the gained insights help creating a positive business impact?\n",
        "Are there any insights that lead to negative growth? Justify with specific reason."
      ],
      "metadata": {
        "id": "Seke61FWphqN"
      }
    },
    {
      "cell_type": "markdown",
      "source": [
        "The gained insights can potentially help create a positive business impact. For instance, if the chart reveals that certain days have significantly longer trip durations, it could indicate areas where the business can focus on improving efficiency or addressing specific issues. It can help in resource allocation, scheduling, or identifying opportunities for process optimization. Additionally, if there are any noticeable trends, it can assist in making informed decisions related to staffing, service levels, or promotions to maximize customer satisfaction and operational efficiency. Overall, understanding the average trip duration by day of the week can provide valuable information for businesses to optimize their operations and potentially enhance customer experience.\n",
        "\n",
        "\n",
        "\n",
        "\n"
      ],
      "metadata": {
        "id": "DW4_bGpfphqN"
      }
    },
    {
      "cell_type": "markdown",
      "source": [
        "#### Chart - 7"
      ],
      "metadata": {
        "id": "PIIx-8_IphqN"
      }
    },
    {
      "cell_type": "code",
      "source": [
        "# Chart - 7 visualization code\n",
        "plt.scatter(data['passenger_count'], data['trip_duration'], alpha=0.5)\n",
        "plt.xlabel('Number of Passengers')\n",
        "plt.ylabel('Trip Duration (seconds)')\n",
        "plt.title(f'Correlation: {correlation:.2f}')\n",
        "plt.show()"
      ],
      "metadata": {
        "id": "lqAIGUfyphqO",
        "colab": {
          "base_uri": "https://localhost:8080/",
          "height": 472
        },
        "outputId": "0ef7c08c-8eef-4135-da9f-c156e4ecfe0a"
      },
      "execution_count": null,
      "outputs": [
        {
          "output_type": "display_data",
          "data": {
            "text/plain": [
              "<Figure size 640x480 with 1 Axes>"
            ],
            "image/png": "[encoded data removed]"
          },
          "metadata": {}
        }
      ]
    },
    {
      "cell_type": "markdown",
      "source": [
        "##### 2. What is/are the insight(s) found from the chart?"
      ],
      "metadata": {
        "id": "r2jJGEOYphqO"
      }
    },
    {
      "cell_type": "markdown",
      "source": [
        "Relationship between Number of Passengers and Trip Duration: By examining the scatter plot, we can gain insights into the relationship between the number of passengers and the trip duration. We can observe if there is any correlation or pattern between these two variables.\n",
        "\n",
        "Clustering or Patterns: The scatter plot can help identify any clustering or patterns within the data points. For example, if there are dense clusters of data points in specific regions of the plot, it suggests that certain combinations of passenger count and trip duration are more common.\n",
        "\n",
        "Outliers: The scatter plot can also help identify any outliers or unusual data points that deviate significantly from the general trend. Outliers may provide valuable information about specific instances where the trip duration does not align with the number of passengers.italicized text"
      ],
      "metadata": {
        "id": "Po6ZPi4hphqO"
      }
    },
    {
      "cell_type": "markdown",
      "source": [
        "#### Chart - 8"
      ],
      "metadata": {
        "id": "BZR9WyysphqO"
      }
    },
    {
      "cell_type": "code",
      "source": [
        "# Chart - 8 visualization code\n",
        "plt.figure(figsize=(8, 6))\n",
        "plt.hist(trip_durations, bins=30, edgecolor='black')\n",
        "plt.xlabel('Trip Duration (minutes)')\n",
        "plt.ylabel('Frequency')\n",
        "plt.title('Distribution of Trip Durations')\n",
        "plt.grid(True)\n",
        "plt.show()\n"
      ],
      "metadata": {
        "id": "TdPTWpAVphqO",
        "colab": {
          "base_uri": "https://localhost:8080/",
          "height": 564
        },
        "outputId": "8cc00226-6c2b-4c49-f61b-ceaa3b9f567e"
      },
      "execution_count": null,
      "outputs": [
        {
          "output_type": "display_data",
          "data": {
            "text/plain": [
              "<Figure size 800x600 with 1 Axes>"
            ],
            "image/png": "[encoded data removed]"
          },
          "metadata": {}
        }
      ]
    },
    {
      "cell_type": "markdown",
      "source": [
        "## ***5. Hypothesis Testing***"
      ],
      "metadata": {
        "id": "g-ATYxFrGrvw"
      }
    },
    {
      "cell_type": "markdown",
      "source": [
        "### Based on your chart experiments, define three hypothetical statements from the dataset. In the next three questions, perform hypothesis testing to obtain final conclusion about the statements through your code and statistical testing."
      ],
      "metadata": {
        "id": "Yfr_Vlr8HBkt"
      }
    },
    {
      "cell_type": "markdown",
      "source": [
        "The final conclusion will depend on the calculated p-value and the chosen significance level (alpha). If the p-value is less than alpha (typically 0.05), we reject the null hypothesis and conclude that the average trip duration is significantly different for trips with and without the store and forward flag. Otherwise, if the p-value is greater than or equal to alpha, we fail to reject the null hypothesis and conclude that the average trip duration is not significantly different for trips with and without the store and forward flag."
      ],
      "metadata": {
        "id": "-7MS06SUHkB-"
      }
    },
    {
      "cell_type": "markdown",
      "source": [
        "### Hypothetical Statement - 1"
      ],
      "metadata": {
        "id": "8yEUt7NnHlrM"
      }
    },
    {
      "cell_type": "markdown",
      "source": [
        "#### 1. State Your research hypothesis as a null hypothesis and alternate hypothesis."
      ],
      "metadata": {
        "id": "tEA2Xm5dHt1r"
      }
    },
    {
      "cell_type": "markdown",
      "source": [
        "\n",
        "\n",
        "\n",
        "The average trip duration is significantly different for trips with a store and forward flag enabled compared to trips without the flag."
      ],
      "metadata": {
        "id": "HI9ZP0laH0D-"
      }
    },
    {
      "cell_type": "markdown",
      "source": [
        "#### 2. Perform an appropriate statistical test."
      ],
      "metadata": {
        "id": "I79__PHVH19G"
      }
    },
    {
      "cell_type": "code",
      "source": [
        "# Perform Statistical Test to obtain P-Value\n",
        "# Separate trip durations for trips with and without the store and forward flag\n",
        "flag_enabled_trips = data[data['store_and_fwd_flag'] == 'Y']['trip_duration']\n",
        "flag_disabled_trips = data[data['store_and_fwd_flag'] == 'N']['trip_duration']\n",
        "\n",
        "# Perform two-sample t-test\n",
        "t_stat, p_value = stats.ttest_ind(flag_enabled_trips, flag_disabled_trips, equal_var=False)\n",
        "\n",
        "# Check the significance level (typically alpha=0.05)\n",
        "alpha = 0.05\n",
        "\n",
        "# Compare the p-value with alpha\n",
        "if p_value < alpha:\n",
        "    conclusion = \"Reject the null hypothesis. The average trip duration is significantly different for trips with and without the store and forward flag.\"\n",
        "else:\n",
        "    conclusion = \"Fail to reject the null hypothesis. The average trip duration is not significantly different for trips with and without the store and forward flag.\"\n",
        "\n",
        "print(\"Conclusion:\", conclusion)\n"
      ],
      "metadata": {
        "id": "oZrfquKtyian",
        "colab": {
          "base_uri": "https://localhost:8080/"
        },
        "outputId": "a73143f9-8ab4-4f31-827f-df1b75a8fa52"
      },
      "execution_count": null,
      "outputs": [
        {
          "output_type": "stream",
          "name": "stdout",
          "text": [
            "Conclusion: Reject the null hypothesis. The average trip duration is significantly different for trips with and without the store and forward flag.\n"
          ]
        }
      ]
    },
    {
      "cell_type": "markdown",
      "source": [
        "##### Which statistical test have you done to obtain P-Value?"
      ],
      "metadata": {
        "id": "Ou-I18pAyIpj"
      }
    },
    {
      "cell_type": "markdown",
      "source": [
        "For this statement, I performed a two-sample t-test to compare the average trip duration between trips with and without the store and forward flag. The t-test provides a p-value that indicates the probability of observing the difference in trip duration between the two groups due to random chance."
      ],
      "metadata": {
        "id": "s2U0kk00ygSB"
      }
    },
    {
      "cell_type": "markdown",
      "source": [
        "##### Why did you choose the specific statistical test?"
      ],
      "metadata": {
        "id": "fF3858GYyt-u"
      }
    },
    {
      "cell_type": "markdown",
      "source": [
        "I chose the two-sample t-test because it is suitable for comparing the means of two independent groups, assuming that the trip durations follow approximately normal distributions. The t-test helps determine if the observed difference in trip duration is statistically significant."
      ],
      "metadata": {
        "id": "HO4K0gP5y3B4"
      }
    },
    {
      "cell_type": "markdown",
      "source": [
        "### Hypothetical Statement - 2"
      ],
      "metadata": {
        "id": "4_0_7-oCpUZd"
      }
    },
    {
      "cell_type": "markdown",
      "source": [
        "#### 1. State Your research hypothesis as a null hypothesis and alternate hypothesis."
      ],
      "metadata": {
        "id": "hwyV_J3ipUZe"
      }
    },
    {
      "cell_type": "markdown",
      "source": [
        "The average trip duration is significantly different between trips taken by different vendors."
      ],
      "metadata": {
        "id": "FnpLGJ-4pUZe"
      }
    },
    {
      "cell_type": "markdown",
      "source": [
        "#### 2. Perform an appropriate statistical test."
      ],
      "metadata": {
        "id": "3yB-zSqbpUZe"
      }
    },
    {
      "cell_type": "code",
      "source": [
        "# Perform Statistical Test to obtain P-Value\n",
        "# Separate trip durations for trips taken by different vendors\n",
        "vendor1_trips = data[data['vendor_id'] == 1]['trip_duration']\n",
        "vendor2_trips = data[data['vendor_id'] == 2]['trip_duration']\n",
        "\n",
        "# Perform two-sample t-test\n",
        "t_stat, p_value = stats.ttest_ind(vendor1_trips, vendor2_trips, equal_var=False)\n",
        "\n",
        "# Check the significance level (typically alpha=0.05)\n",
        "alpha = 0.05\n",
        "\n",
        "# Compare the p-value with alpha\n",
        "if p_value < alpha:\n",
        "    conclusion = \"Reject the null hypothesis. The average trip duration is significantly different between trips taken by different vendors.\"\n",
        "else:\n",
        "    conclusion = \"Fail to reject the null hypothesis. The average trip duration is not significantly different between trips taken by different vendors.\"\n",
        "\n",
        "print(\"Conclusion:\", conclusion)"
      ],
      "metadata": {
        "id": "sWxdNTXNpUZe",
        "colab": {
          "base_uri": "https://localhost:8080/"
        },
        "outputId": "04104162-59df-496d-870e-d0b547ed558e"
      },
      "execution_count": null,
      "outputs": [
        {
          "output_type": "stream",
          "name": "stdout",
          "text": [
            "Conclusion: Reject the null hypothesis. The average trip duration is significantly different between trips taken by different vendors.\n"
          ]
        }
      ]
    },
    {
      "cell_type": "markdown",
      "source": [
        "##### Which statistical test have you done to obtain P-Value?"
      ],
      "metadata": {
        "id": "dEUvejAfpUZe"
      }
    },
    {
      "cell_type": "markdown",
      "source": [
        "In this case, I also used a two-sample t-test to compare the average trip duration between trips taken by different vendors. The t-test allows us to assess if the observed difference in trip duration is statistically significant and not due to random variation."
      ],
      "metadata": {
        "id": "oLDrPz7HpUZf"
      }
    },
    {
      "cell_type": "markdown",
      "source": [
        "##### Why did you choose the specific statistical test?"
      ],
      "metadata": {
        "id": "Fd15vwWVpUZf"
      }
    },
    {
      "cell_type": "markdown",
      "source": [
        "I chose the two-sample t-test because it is appropriate for comparing the means of two independent groups, assuming that the trip durations are approximately normally distributed. By comparing the p-value against a significance level (alpha), we can determine if the difference in average trip duration between vendors is statistically significant."
      ],
      "metadata": {
        "id": "4xOGYyiBpUZf"
      }
    },
    {
      "cell_type": "markdown",
      "source": [
        "### Hypothetical Statement - 3"
      ],
      "metadata": {
        "id": "bn_IUdTipZyH"
      }
    },
    {
      "cell_type": "markdown",
      "source": [
        "#### 1. State Your research hypothesis as a null hypothesis and alternate hypothesis."
      ],
      "metadata": {
        "id": "49K5P_iCpZyH"
      }
    },
    {
      "cell_type": "markdown",
      "source": [
        "The average trip duration is significantly different for trips with different numbers of passengers."
      ],
      "metadata": {
        "id": "7gWI5rT9pZyH"
      }
    },
    {
      "cell_type": "markdown",
      "source": [
        "#### 2. Perform an appropriate statistical test."
      ],
      "metadata": {
        "id": "Nff-vKELpZyI"
      }
    },
    {
      "cell_type": "code",
      "source": [
        "# Perform Statistical Test to obtain P-Value\n",
        "# Separate trip durations for trips with different numbers of passengers\n",
        "trips_1_passenger = data[data['passenger_count'] == 1]['trip_duration']\n",
        "trips_2_passengers = data[data['passenger_count'] == 2]['trip_duration']\n",
        "trips_3_passengers = data[data['passenger_count'] == 3]['trip_duration']\n",
        "\n",
        "# Perform one-way ANOVA test\n",
        "f_stat, p_value = stats.f_oneway(trips_1_passenger, trips_2_passengers, trips_3_passengers)\n",
        "\n",
        "# Check the significance level (typically alpha=0.05)\n",
        "alpha = 0.05\n",
        "\n",
        "# Compare the p-value with alpha\n",
        "if p_value < alpha:\n",
        "    conclusion = \"Reject the null hypothesis. The average trip duration is significantly different for trips with different numbers of passengers.\"\n",
        "else:\n",
        "    conclusion = \"Fail to reject the null hypothesis. The average trip duration is not significantly different for trips with different numbers of passengers.\"\n",
        "\n",
        "print(\"Conclusion:\", conclusion)"
      ],
      "metadata": {
        "id": "s6AnJQjtpZyI",
        "colab": {
          "base_uri": "https://localhost:8080/"
        },
        "outputId": "eb6e25d7-b300-454b-9fce-ee3baf4c3e65"
      },
      "execution_count": null,
      "outputs": [
        {
          "output_type": "stream",
          "name": "stdout",
          "text": [
            "Conclusion: Reject the null hypothesis. The average trip duration is significantly different for trips with different numbers of passengers.\n"
          ]
        }
      ]
    },
    {
      "cell_type": "markdown",
      "source": [
        "##### Which statistical test have you done to obtain P-Value?"
      ],
      "metadata": {
        "id": "kLW572S8pZyI"
      }
    },
    {
      "cell_type": "markdown",
      "source": [
        "To test this statement, I used a one-way ANOVA (Analysis of Variance) test. The one-way ANOVA allows for comparing the means of multiple groups (in this case, different numbers of passengers) simultaneously to determine if there are any significant differences among the groups."
      ],
      "metadata": {
        "id": "ytWJ8v15pZyI"
      }
    },
    {
      "cell_type": "markdown",
      "source": [
        "##### Why did you choose the specific statistical test?"
      ],
      "metadata": {
        "id": "dWbDXHzopZyI"
      }
    },
    {
      "cell_type": "markdown",
      "source": [
        "The one-way ANOVA test assesses whether the variation between the group means is greater than the variation within the groups, considering the trip durations. It provides a p-value that helps determine if there is a statistically significant difference in average trip duration across the different numbers of passengers."
      ],
      "metadata": {
        "id": "M99G98V6pZyI"
      }
    },
    {
      "cell_type": "markdown",
      "source": [
        "## ***6. Feature Engineering & Data Pre-processing***"
      ],
      "metadata": {
        "id": "yLjJCtPM0KBk"
      }
    },
    {
      "cell_type": "markdown",
      "source": [
        "### 1. Handling Missing Values"
      ],
      "metadata": {
        "id": "xiyOF9F70UgQ"
      }
    },
    {
      "cell_type": "code",
      "source": [
        "# Handling Missing Values & Missing Value Imputation\n",
        "\n",
        "\n",
        "# Identify missing values\n",
        "missing_values = data.isnull().sum()\n",
        "\n",
        "# Print the missing values before imputation\n",
        "print(\"Missing values before imputation:\")\n",
        "print(missing_values)\n",
        "\n",
        "# Perform missing value imputation\n",
        "\n",
        "# Example 1: Mean imputation for numeric columns\n",
        "numeric_columns = ['passenger_count', 'pickup_longitude', 'pickup_latitude', 'dropoff_longitude', 'dropoff_latitude', 'trip_duration']\n",
        "data[numeric_columns] = data[numeric_columns].fillna(data[numeric_columns].mean())\n",
        "\n",
        "# Example 2: Mode imputation for categorical column 'store_and_fwd_flag'\n",
        "data['store_and_fwd_flag'] = data['store_and_fwd_flag'].fillna(data['store_and_fwd_flag'].mode()[0])\n",
        "\n",
        "# Print the missing values after imputation\n",
        "remaining_missing_values = data.isnull().sum()\n",
        "print(\"\\nMissing values after imputation:\")\n",
        "print(remaining_missing_values)\n"
      ],
      "metadata": {
        "id": "iRsAHk1K0fpS",
        "colab": {
          "base_uri": "https://localhost:8080/"
        },
        "outputId": "2c82557d-8df9-4fa3-87b9-7707d82208e5"
      },
      "execution_count": null,
      "outputs": [
        {
          "output_type": "stream",
          "name": "stdout",
          "text": [
            "Missing values before imputation:\n",
            "id                    0\n",
            "vendor_id             0\n",
            "pickup_datetime       0\n",
            "dropoff_datetime      0\n",
            "passenger_count       0\n",
            "pickup_longitude      0\n",
            "pickup_latitude       0\n",
            "dropoff_longitude     0\n",
            "dropoff_latitude      0\n",
            "store_and_fwd_flag    0\n",
            "trip_duration         0\n",
            "pickup_dayofweek      0\n",
            "trip_duration_min     0\n",
            "dtype: int64\n",
            "\n",
            "Missing values after imputation:\n",
            "id                    0\n",
            "vendor_id             0\n",
            "pickup_datetime       0\n",
            "dropoff_datetime      0\n",
            "passenger_count       0\n",
            "pickup_longitude      0\n",
            "pickup_latitude       0\n",
            "dropoff_longitude     0\n",
            "dropoff_latitude      0\n",
            "store_and_fwd_flag    0\n",
            "trip_duration         0\n",
            "pickup_dayofweek      0\n",
            "trip_duration_min     0\n",
            "dtype: int64\n"
          ]
        }
      ]
    },
    {
      "cell_type": "markdown",
      "source": [
        "#### What all missing value imputation techniques have you used and why did you use those techniques?"
      ],
      "metadata": {
        "id": "7wuGOrhz0itI"
      }
    },
    {
      "cell_type": "markdown",
      "source": [
        "Mean Imputation for Numeric Columns:\n",
        "\n",
        "Numeric columns such as 'passenger_count', 'pickup_longitude', 'pickup_latitude', 'dropoff_longitude', 'dropoff_latitude', and 'trip_duration' contain continuous values.\n",
        "Mean imputation replaces missing values with the mean value of the corresponding column.\n",
        "Mean imputation is commonly used for numeric variables when the missing values are assumed to be missing at random (MAR) and the missingness does not carry significant information.\n",
        "The mean value is a reasonable estimate that preserves the overall distribution and does not introduce bias to the imputed values.\n",
        "Mode Imputation for Categorical Column:\n",
        "\n",
        "The categorical column 'store_and_fwd_flag' has two categories: 'Y' and 'N'.\n",
        "Mode imputation replaces missing values with the most frequent category in the column.\n",
        "Mode imputation is suitable for categorical variables where missingness is assumed to be MAR, and the mode represents the most likely category for the missing values.\n",
        "By imputing with the mode, the imputed values align with the existing distribution of the column."
      ],
      "metadata": {
        "id": "1ixusLtI0pqI"
      }
    },
    {
      "cell_type": "markdown",
      "source": [
        "### 2. Handling Outliers"
      ],
      "metadata": {
        "id": "id1riN9m0vUs"
      }
    },
    {
      "cell_type": "code",
      "source": [
        "# Handling Outliers & Outlier treatments\n",
        "# Visualize the distribution of trip durations\n",
        "from scipy.stats import mstats\n",
        "plt.figure(figsize=(8, 6))\n",
        "plt.hist(data['trip_duration'], bins=30, edgecolor='black')\n",
        "plt.xlabel('Trip Duration (seconds)')\n",
        "plt.ylabel('Frequency')\n",
        "plt.title('Distribution of Trip Durations')\n",
        "plt.grid(True)\n",
        "plt.show()\n",
        "\n",
        "# Identify outliers using winsorization\n",
        "winsorized_data = mstats.winsorize(data['trip_duration'], limits=[0.05, 0.05])\n",
        "\n",
        "# Replace the original trip duration column with winsorized data\n",
        "data['trip_duration'] = winsorized_data\n",
        "\n",
        "# Visualize the distribution of trip durations after winsorization\n",
        "plt.figure(figsize=(8, 6))\n",
        "plt.hist(data['trip_duration'], bins=30, edgecolor='black')\n",
        "plt.xlabel('Trip Duration (seconds)')\n",
        "plt.ylabel('Frequency')\n",
        "plt.title('Distribution of Trip Durations (Winsorized)')\n",
        "plt.grid(True)\n",
        "plt.show()"
      ],
      "metadata": {
        "id": "M6w2CzZf04JK",
        "colab": {
          "base_uri": "https://localhost:8080/",
          "height": 1000
        },
        "outputId": "1749d45d-0b18-4bf2-fb5b-e7fbfba1d5cc"
      },
      "execution_count": null,
      "outputs": [
        {
          "output_type": "display_data",
          "data": {
            "text/plain": [
              "<Figure size 800x600 with 1 Axes>"
            ],
            "image/png": "[encoded data removed]"
          },
          "metadata": {}
        },
        {
          "output_type": "display_data",
          "data": {
            "text/plain": [
              "<Figure size 800x600 with 1 Axes>"
            ],
            "image/png": "[encoded data removed]"
          },
          "metadata": {}
        }
      ]
    },
    {
      "cell_type": "markdown",
      "source": [
        "##### What all outlier treatment techniques have you used and why did you use those techniques?"
      ],
      "metadata": {
        "id": "578E2V7j08f6"
      }
    },
    {
      "cell_type": "markdown",
      "source": [
        "Winsorization:\n",
        "Winsorization is a technique used to handle outliers by capping/extending extreme values to a specified percentile of the data distribution.\n",
        "In the code, the winsorization method from the scipy.stats module is applied to the 'trip_duration' column using a limit of 5% on both ends (lower and upper limits).\n",
        "Winsorization is a robust method that reduces the impact of extreme outliers without removing them entirely. It preserves the shape of the distribution while mitigating the influence of extreme values.\n",
        "By winsorizing the 'trip_duration' column, the extreme values are replaced with values at the 5th and 95th percentiles, respectively, reducing the impact of outliers on the distribution.\n",
        "The choice of winsorization as the outlier treatment technique was based on the assumption that extreme values in the 'trip_duration' column may be potential outliers. Instead of removing these outliers entirely, winsorization provides a compromise by reducing their influence without losing the overall distributional characteristics of the variable.\n",
        "\n",
        "It's important to note that the choice of outlier treatment technique may depend on the specific dataset and the nature of the outliers. Other techniques such as trimming, data transformation, or using robust statistical methods may also be considered based on the characteristics of the data and the objectives of the analysis.\n",
        "\n",
        "\n",
        "\n",
        "\n",
        "\n",
        "\n"
      ],
      "metadata": {
        "id": "uGZz5OrT1HH-"
      }
    },
    {
      "cell_type": "markdown",
      "source": [
        "### 3. Categorical Encoding"
      ],
      "metadata": {
        "id": "89xtkJwZ18nB"
      }
    },
    {
      "cell_type": "code",
      "source": [
        "# Encode your categorical columns\n",
        "# Select categorical columns for one-hot encoding\n",
        "categorical_columns = ['vendor_id', 'store_and_fwd_flag']\n",
        "\n",
        "# Perform one-hot encoding\n",
        "df_encoded = pd.get_dummies(data, columns=categorical_columns)\n",
        "\n",
        "# Print the encoded DataFrame\n",
        "print(df_encoded.head())"
      ],
      "metadata": {
        "id": "21JmIYMG2hEo",
        "colab": {
          "base_uri": "https://localhost:8080/"
        },
        "outputId": "506f79d4-d89c-43da-c8d7-cd0d499b211e"
      },
      "execution_count": null,
      "outputs": [
        {
          "output_type": "stream",
          "name": "stdout",
          "text": [
            "          id     pickup_datetime     dropoff_datetime  passenger_count  \\\n",
            "0  id2875421 2016-03-14 17:24:55  2016-03-14 17:32:30                1   \n",
            "1  id2377394 2016-06-12 00:43:35  2016-06-12 00:54:38                1   \n",
            "2  id3858529 2016-01-19 11:35:24  2016-01-19 12:10:48                1   \n",
            "3  id3504673 2016-04-06 19:32:31  2016-04-06 19:39:40                1   \n",
            "4  id2181028 2016-03-26 13:30:55  2016-03-26 13:38:10                1   \n",
            "\n",
            "   pickup_longitude  pickup_latitude  dropoff_longitude  dropoff_latitude  \\\n",
            "0        -73.982155        40.767937         -73.964630         40.765602   \n",
            "1        -73.980415        40.738564         -73.999481         40.731152   \n",
            "2        -73.979027        40.763939         -74.005333         40.710087   \n",
            "3        -74.010040        40.719971         -74.012268         40.706718   \n",
            "4        -73.973053        40.793209         -73.972923         40.782520   \n",
            "\n",
            "   trip_duration  pickup_dayofweek  trip_duration_min  vendor_id_1  \\\n",
            "0            455                 0           7.583333            0   \n",
            "1            663                 6          11.050000            1   \n",
            "2           2104                 1          35.400000            0   \n",
            "3            429                 2           7.150000            0   \n",
            "4            435                 5           7.250000            0   \n",
            "\n",
            "   vendor_id_2  store_and_fwd_flag_N  store_and_fwd_flag_Y  \n",
            "0            1                     1                     0  \n",
            "1            0                     1                     0  \n",
            "2            1                     1                     0  \n",
            "3            1                     1                     0  \n",
            "4            1                     1                     0  \n"
          ]
        }
      ]
    },
    {
      "cell_type": "markdown",
      "source": [
        "#### What all categorical encoding techniques have you used & why did you use those techniques?"
      ],
      "metadata": {
        "id": "67NQN5KX2AMe"
      }
    },
    {
      "cell_type": "markdown",
      "source": [
        "One-Hot Encoding:\n",
        "One-hot encoding is a widely used technique for categorical encoding.\n",
        "In the code, the pd.get_dummies() function from the pandas library is applied to the 'vendor_id' and 'store_and_fwd_flag' columns.\n",
        "One-hot encoding creates binary columns for each category in the categorical variables, representing the presence or absence of a category for each data point.\n",
        "One-hot encoding is suitable when the categorical variables are nominal (unordered) and do not have a natural ordinal relationship.\n",
        "By using one-hot encoding, the categorical variables are transformed into a numerical representation that can be easily understood by machine learning algorithms, as most algorithms require numerical inputs."
      ],
      "metadata": {
        "id": "UDaue5h32n_G"
      }
    },
    {
      "cell_type": "markdown",
      "source": [
        "### 4. Feature Manipulation & Selection"
      ],
      "metadata": {
        "id": "-oLEiFgy-5Pf"
      }
    },
    {
      "cell_type": "markdown",
      "source": [
        "#### 1. Feature Manipulation"
      ],
      "metadata": {
        "id": "C74aWNz2AliB"
      }
    },
    {
      "cell_type": "code",
      "source": [
        "# Manipulate Features to minimize feature correlation and create new features\n",
        "\n",
        "\n",
        "# Example 1: Drop highly correlated features\n",
        "# Calculate correlation matrix\n",
        "correlation_matrix = data.corr().abs()\n",
        "\n",
        "# Set threshold for correlation\n",
        "threshold = 0.8\n",
        "\n",
        "# Find and drop highly correlated features\n",
        "highly_correlated_features = np.where(correlation_matrix > threshold)\n",
        "highly_correlated_features = [(correlation_matrix.columns[x], correlation_matrix.columns[y]) for x, y in zip(*highly_correlated_features) if x != y]\n",
        "\n",
        "# Drop highly correlated features\n",
        "data.drop(columns=[feat[1] for feat in highly_correlated_features], inplace=True)\n",
        "\n",
        "# Example 2: Binning numeric features\n",
        "# Binning 'trip_duration' into categories\n",
        "bins = [0, 600, 1200, 1800, np.inf]\n",
        "labels = ['Short', 'Medium', 'Long', 'Very Long']\n",
        "data['trip_duration_category'] = pd.cut(data['trip_duration'], bins=bins, labels=labels)\n",
        "\n",
        "# Create new features\n",
        "\n",
        "# Example 1: Date-based features\n",
        "data['pickup_datetime'] = pd.to_datetime(data['pickup_datetime'])\n",
        "data['pickup_year'] = data['pickup_datetime'].dt.year\n",
        "data['pickup_month'] = data['pickup_datetime'].dt.month\n",
        "data['pickup_day'] = data['pickup_datetime'].dt.day\n",
        "data['pickup_hour'] = data['pickup_datetime'].dt.hour\n",
        "data['pickup_minute'] = data['pickup_datetime'].dt.minute\n",
        "\n",
        "# Example 2: Distance-based feature\n",
        "data['distance'] = np.sqrt((data['pickup_latitude'] - data['dropoff_latitude'])**2 + (data['pickup_longitude'] - data['dropoff_longitude'])**2)\n",
        "\n",
        "# Print the updated DataFrame\n",
        "print(data.head())\n"
      ],
      "metadata": {
        "id": "h1qC4yhBApWC",
        "colab": {
          "base_uri": "https://localhost:8080/"
        },
        "outputId": "7642ae2f-9769-4462-83d8-8c12314b87fd"
      },
      "execution_count": null,
      "outputs": [
        {
          "output_type": "stream",
          "name": "stderr",
          "text": [
            "<ipython-input-72-548e840179af>:6: FutureWarning: The default value of numeric_only in DataFrame.corr is deprecated. In a future version, it will default to False. Select only valid columns or specify the value of numeric_only to silence this warning.\n",
            "  correlation_matrix = data.corr().abs()\n"
          ]
        },
        {
          "output_type": "stream",
          "name": "stdout",
          "text": [
            "          id  vendor_id     pickup_datetime     dropoff_datetime  \\\n",
            "0  id2875421          2 2016-03-14 17:24:55  2016-03-14 17:32:30   \n",
            "1  id2377394          1 2016-06-12 00:43:35  2016-06-12 00:54:38   \n",
            "2  id3858529          2 2016-01-19 11:35:24  2016-01-19 12:10:48   \n",
            "3  id3504673          2 2016-04-06 19:32:31  2016-04-06 19:39:40   \n",
            "4  id2181028          2 2016-03-26 13:30:55  2016-03-26 13:38:10   \n",
            "\n",
            "   passenger_count  pickup_longitude  pickup_latitude  dropoff_longitude  \\\n",
            "0                1        -73.982155        40.767937         -73.964630   \n",
            "1                1        -73.980415        40.738564         -73.999481   \n",
            "2                1        -73.979027        40.763939         -74.005333   \n",
            "3                1        -74.010040        40.719971         -74.012268   \n",
            "4                1        -73.973053        40.793209         -73.972923   \n",
            "\n",
            "   dropoff_latitude store_and_fwd_flag  trip_duration  pickup_dayofweek  \\\n",
            "0         40.765602                  N            455                 0   \n",
            "1         40.731152                  N            663                 6   \n",
            "2         40.710087                  N           2104                 1   \n",
            "3         40.706718                  N            429                 2   \n",
            "4         40.782520                  N            435                 5   \n",
            "\n",
            "   trip_duration_min trip_duration_category  pickup_year  pickup_month  \\\n",
            "0           7.583333                  Short         2016             3   \n",
            "1          11.050000                 Medium         2016             6   \n",
            "2          35.400000              Very Long         2016             1   \n",
            "3           7.150000                  Short         2016             4   \n",
            "4           7.250000                  Short         2016             3   \n",
            "\n",
            "   pickup_day  pickup_hour  pickup_minute  distance  \n",
            "0          14           17             24  0.017680  \n",
            "1          12            0             43  0.020456  \n",
            "2          19           11             35  0.059934  \n",
            "3           6           19             32  0.013438  \n",
            "4          26           13             30  0.010690  \n"
          ]
        }
      ]
    },
    {
      "cell_type": "markdown",
      "source": [
        "#### 2. Feature Selection"
      ],
      "metadata": {
        "id": "2DejudWSA-a0"
      }
    },
    {
      "cell_type": "code",
      "source": [
        "# Select your features wisely to avoid overfitting\n",
        "# Select the relevant features\n",
        "features = ['passenger_count', 'pickup_longitude', 'pickup_latitude',\n",
        "            'dropoff_longitude', 'dropoff_latitude', 'pickup_datetime', 'dropoff_datetime']\n",
        "target = 'trip_duration'\n",
        "\n",
        "# Prepare the data\n",
        "X = data[features]\n",
        "y = data[target]\n",
        "\n",
        "# Convert pickup and dropoff datetime to numerical features\n",
        "X['pickup_datetime'] = pd.to_datetime(X['pickup_datetime']).astype(int) / 10**9\n",
        "X['dropoff_datetime'] = pd.to_datetime(X['dropoff_datetime']).astype(int) / 10**9\n",
        "\n",
        "# Split the data into training and testing sets\n",
        "X_train, X_test, y_train, y_test = train_test_split(X, y, test_size=0.2, random_state=42)\n",
        "\n",
        "# Train a linear regression model\n",
        "model = LinearRegression()\n",
        "model.fit(X_train, y_train)\n",
        "\n",
        "# Make predictions on the test set\n",
        "y_pred = model.predict(X_test)\n",
        "\n",
        "# Evaluate the model\n",
        "mse = mean_squared_error(y_test, y_pred)\n",
        "print(f\"Mean Squared Error: {mse}\")\n",
        "\n",
        "# Predict trip duration for a new sample\n",
        "new_sample = pd.DataFrame([[3, -73.9875, 40.7653, -73.9671, 40.7556, '2023-07-14 09:00:00', '2023-07-14 09:15:00']],\n",
        "                          columns=features)\n",
        "new_sample['pickup_datetime'] = pd.to_datetime(new_sample['pickup_datetime']).astype(int) / 10**9\n",
        "new_sample['dropoff_datetime'] = pd.to_datetime(new_sample['dropoff_datetime']).astype(int) / 10**9\n",
        "predicted_duration = model.predict(new_sample)\n",
        "print(f\"Predicted Trip Duration: {predicted_duration}\")\n"
      ],
      "metadata": {
        "id": "YLhe8UmaBCEE",
        "colab": {
          "base_uri": "https://localhost:8080/"
        },
        "outputId": "8382e4e9-7c6e-49ee-ab21-3eb19ddc5b10"
      },
      "execution_count": null,
      "outputs": [
        {
          "output_type": "stream",
          "name": "stderr",
          "text": [
            "<ipython-input-4-cc7aa7a90164>:12: SettingWithCopyWarning: \n",
            "A value is trying to be set on a copy of a slice from a DataFrame.\n",
            "Try using .loc[row_indexer,col_indexer] = value instead\n",
            "\n",
            "See the caveats in the documentation: https://pandas.pydata.org/pandas-docs/stable/user_guide/indexing.html#returning-a-view-versus-a-copy\n",
            "  X['pickup_datetime'] = pd.to_datetime(X['pickup_datetime']).astype(int) / 10**9\n",
            "<ipython-input-4-cc7aa7a90164>:13: SettingWithCopyWarning: \n",
            "A value is trying to be set on a copy of a slice from a DataFrame.\n",
            "Try using .loc[row_indexer,col_indexer] = value instead\n",
            "\n",
            "See the caveats in the documentation: https://pandas.pydata.org/pandas-docs/stable/user_guide/indexing.html#returning-a-view-versus-a-copy\n",
            "  X['dropoff_datetime'] = pd.to_datetime(X['dropoff_datetime']).astype(int) / 10**9\n"
          ]
        },
        {
          "output_type": "stream",
          "name": "stdout",
          "text": [
            "Mean Squared Error: 6.12704530996691e-15\n",
            "Predicted Trip Duration: [899.99999992]\n"
          ]
        }
      ]
    },
    {
      "cell_type": "markdown",
      "source": [
        "### 6. Data Scaling"
      ],
      "metadata": {
        "id": "rMDnDkt2B6du"
      }
    },
    {
      "cell_type": "code",
      "source": [
        "# Select the relevant features\n",
        "features = ['passenger_count', 'pickup_longitude', 'pickup_latitude',\n",
        "            'dropoff_longitude', 'dropoff_latitude', 'pickup_datetime', 'dropoff_datetime']\n",
        "target = 'trip_duration'\n",
        "\n",
        "# Prepare the data\n",
        "X = data[features]\n",
        "y = data[target]\n",
        "\n",
        "# Convert pickup and dropoff datetime to pandas datetime format\n",
        "X['pickup_datetime'] = pd.to_datetime(X['pickup_datetime'])\n",
        "X['dropoff_datetime'] = pd.to_datetime(X['dropoff_datetime'])\n",
        "\n",
        "# Feature Engineering: Calculate the distance between pickup and dropoff locations\n",
        "X['distance'] = ((X['pickup_longitude'] - X['dropoff_longitude'])**2 + (X['pickup_latitude'] - X['dropoff_latitude'])**2)**0.5\n",
        "\n",
        "# Data preprocessing pipeline\n",
        "numeric_features = ['passenger_count', 'distance']\n",
        "\n",
        "numeric_transformer = Pipeline(steps=[\n",
        "    ('scaler', MinMaxScaler())])\n",
        "\n",
        "preprocessor = ColumnTransformer(\n",
        "    transformers=[\n",
        "        ('num', numeric_transformer, numeric_features)])\n",
        "\n",
        "# Split the data into training and testing sets\n",
        "X_train, X_test, y_train, y_test = train_test_split(X, y, test_size=0.2, random_state=42)\n",
        "\n",
        "# Train a linear regression model\n",
        "model = Pipeline(steps=[('preprocessor', preprocessor),\n",
        "                        ('regressor', LinearRegression())])\n",
        "\n",
        "model.fit(X_train, y_train)\n",
        "\n",
        "# Make predictions on the test set\n",
        "y_pred = model.predict(X_test)\n",
        "\n",
        "# Evaluate the model\n",
        "mse = mean_squared_error(y_test, y_pred)\n",
        "print(f\"Mean Squared Error: {mse}\")\n",
        "\n",
        "# Predict trip duration for a new sample\n",
        "new_sample = pd.DataFrame([[3, -73.9875, 40.7653, -73.9671, 40.7556, '2023-07-14 09:00:00', '2023-07-14 09:15:00']],\n",
        "                          columns=features)\n",
        "new_sample['pickup_datetime'] = pd.to_datetime(new_sample['pickup_datetime'])\n",
        "new_sample['dropoff_datetime'] = pd.to_datetime(new_sample['dropoff_datetime'])\n",
        "new_sample['distance'] = ((new_sample['pickup_longitude'] - new_sample['dropoff_longitude'])**2 + (new_sample['pickup_latitude'] - new_sample['dropoff_latitude'])**2)**0.5\n",
        "\n",
        "predicted_duration = model.predict(new_sample)\n",
        "print(f\"Predicted Trip Duration: {predicted_duration}\")\n"
      ],
      "metadata": {
        "colab": {
          "base_uri": "https://localhost:8080/"
        },
        "id": "Be2yqj8wrFXU",
        "outputId": "4e4fb321-2a22-49c3-c208-c18bd594a6c6"
      },
      "execution_count": null,
      "outputs": [
        {
          "output_type": "stream",
          "name": "stderr",
          "text": [
            "<ipython-input-14-eb24c2b1c37d>:21: SettingWithCopyWarning: \n",
            "A value is trying to be set on a copy of a slice from a DataFrame.\n",
            "Try using .loc[row_indexer,col_indexer] = value instead\n",
            "\n",
            "See the caveats in the documentation: https://pandas.pydata.org/pandas-docs/stable/user_guide/indexing.html#returning-a-view-versus-a-copy\n",
            "  X['pickup_datetime'] = pd.to_datetime(X['pickup_datetime'])\n",
            "<ipython-input-14-eb24c2b1c37d>:22: SettingWithCopyWarning: \n",
            "A value is trying to be set on a copy of a slice from a DataFrame.\n",
            "Try using .loc[row_indexer,col_indexer] = value instead\n",
            "\n",
            "See the caveats in the documentation: https://pandas.pydata.org/pandas-docs/stable/user_guide/indexing.html#returning-a-view-versus-a-copy\n",
            "  X['dropoff_datetime'] = pd.to_datetime(X['dropoff_datetime'])\n",
            "<ipython-input-14-eb24c2b1c37d>:25: SettingWithCopyWarning: \n",
            "A value is trying to be set on a copy of a slice from a DataFrame.\n",
            "Try using .loc[row_indexer,col_indexer] = value instead\n",
            "\n",
            "See the caveats in the documentation: https://pandas.pydata.org/pandas-docs/stable/user_guide/indexing.html#returning-a-view-versus-a-copy\n",
            "  X['distance'] = ((X['pickup_longitude'] - X['dropoff_longitude'])**2 + (X['pickup_latitude'] - X['dropoff_latitude'])**2)**0.5\n"
          ]
        },
        {
          "output_type": "stream",
          "name": "stdout",
          "text": [
            "Mean Squared Error: 10332892.23647456\n",
            "Predicted Trip Duration: [858.30851819]\n"
          ]
        }
      ]
    },
    {
      "cell_type": "markdown",
      "source": [
        "##### Which method have you used to scale you data and why?"
      ],
      "metadata": {
        "id": "yiiVWRdJDDil"
      }
    },
    {
      "cell_type": "markdown",
      "source": [
        "MinMaxScaler:\n",
        "MinMaxScaler is a commonly used method for feature scaling in machine learning.\n",
        "MinMaxScaler scales the features to a specified range, typically between 0 and 1.\n",
        "In the code, the MinMaxScaler is applied to the numeric features 'passenger_count' and 'distance' using the Pipeline and ColumnTransformer.\n",
        "MinMaxScaler is suitable when we want to preserve the original distribution of the features and maintain interpretability.\n",
        "By scaling the features using MinMaxScaler, we ensure that all numeric features are on a similar scale, which can help prevent features with larger values from dominating the model training process."
      ],
      "metadata": {
        "id": "ZKr75IDuEM7t"
      }
    },
    {
      "cell_type": "markdown",
      "source": [
        "### 8. Data Splitting"
      ],
      "metadata": {
        "id": "BhH2vgX9EjGr"
      }
    },
    {
      "cell_type": "code",
      "source": [
        "# Split your data to train and test. Choose Splitting ratio wisely.\n",
        "import pandas as pd\n",
        "from sklearn.model_selection import train_test_split\n",
        "\n",
        "\n",
        "\n",
        "# Select the relevant features and target variable\n",
        "features = ['passenger_count', 'pickup_longitude', 'pickup_latitude',\n",
        "            'dropoff_longitude', 'dropoff_latitude', 'pickup_datetime', 'dropoff_datetime']\n",
        "target = 'trip_duration'\n",
        "\n",
        "X = data[features]\n",
        "y = data[target]\n",
        "\n",
        "# Split the data into training and testing sets\n",
        "X_train, X_test, y_train, y_test = train_test_split(X, y, test_size=0.2, random_state=42)\n"
      ],
      "metadata": {
        "id": "0CTyd2UwEyNM"
      },
      "execution_count": null,
      "outputs": []
    },
    {
      "cell_type": "markdown",
      "source": [
        "##### What data splitting ratio have you used and why?"
      ],
      "metadata": {
        "id": "qjKvONjwE8ra"
      }
    },
    {
      "cell_type": "markdown",
      "source": [
        "Data Splitting Ratio:\n",
        "The data splitting ratio determines the proportion of the dataset that is allocated to the training set and the testing set.\n",
        "In the code, the train_test_split() function from scikit-learn is used to split the data into training and testing sets.\n",
        "The test_size parameter is set to 0.2, indicating that 20% of the data will be used for testing, while the remaining 80% will be used for training.\n",
        "The random_state parameter is set to 42 to ensure reproducibility of the split. Using the same random_state value will yield the same split if the code is run multiple times.\n",
        "The chosen data splitting ratio of 80% for training and 20% for testing is a common and recommended practice. Here's why it is a reasonable choice:"
      ],
      "metadata": {
        "id": "Y2lJ8cobFDb_"
      }
    },
    {
      "cell_type": "markdown",
      "source": [
        "## ***7. ML Model Implementation***"
      ],
      "metadata": {
        "id": "VfCC591jGiD4"
      }
    },
    {
      "cell_type": "markdown",
      "source": [
        "### ML Model - 1"
      ],
      "metadata": {
        "id": "OB4l2ZhMeS1U"
      }
    },
    {
      "cell_type": "code",
      "source": [
        "# Select the relevant features and target variable\n",
        "features = ['passenger_count', 'pickup_longitude', 'pickup_latitude',\n",
        "            'dropoff_longitude', 'dropoff_latitude', 'pickup_datetime', 'dropoff_datetime']\n",
        "target = 'trip_duration'\n",
        "\n",
        "X = data[features].copy()  # Make a copy to avoid SettingWithCopyWarning\n",
        "y = data[target]\n",
        "\n",
        "# Convert datetime columns to numeric representations\n",
        "X['pickup_datetime'] = pd.to_datetime(X['pickup_datetime'])\n",
        "X['dropoff_datetime'] = pd.to_datetime(X['dropoff_datetime'])\n",
        "X['pickup_hour'] = X['pickup_datetime'].dt.hour\n",
        "X['pickup_dayofweek'] = X['pickup_datetime'].dt.dayofweek\n",
        "X['pickup_dayofyear'] = X['pickup_datetime'].dt.dayofyear\n",
        "\n",
        "# Drop the original datetime columns\n",
        "X.drop(['pickup_datetime', 'dropoff_datetime'], axis=1, inplace=True)\n",
        "\n",
        "# Split the data into training and testing sets\n",
        "X_train, X_test, y_train, y_test = train_test_split(X, y, test_size=0.2, random_state=42)\n",
        "\n",
        "# Create an instance of the linear regression model\n",
        "model = LinearRegression()\n",
        "\n",
        "# Fit the model to the training data\n",
        "model.fit(X_train, y_train)\n",
        "\n",
        "# Make predictions on the test set\n",
        "y_pred = model.predict(X_test)\n",
        "\n",
        "# Evaluate the model\n",
        "mse = mean_squared_error(y_test, y_pred)\n",
        "print(f\"Mean Squared Error: {mse}\")\n",
        "\n",
        "# Predict on new data\n",
        "new_sample = pd.DataFrame([[3, -73.9875, 40.7653, -73.9671, 40.7556, '2023-07-14 09:00:00', '2023-07-14 09:15:00']],\n",
        "                          columns=features)\n",
        "\n",
        "# Convert datetime columns in the new sample to numeric representations\n",
        "new_sample['pickup_datetime'] = pd.to_datetime(new_sample['pickup_datetime'])\n",
        "new_sample['dropoff_datetime'] = pd.to_datetime(new_sample['dropoff_datetime'])\n",
        "new_sample['pickup_hour'] = new_sample['pickup_datetime'].dt.hour\n",
        "new_sample['pickup_dayofweek'] = new_sample['pickup_datetime'].dt.dayofweek\n",
        "new_sample['pickup_dayofyear'] = new_sample['pickup_datetime'].dt.dayofyear\n",
        "\n",
        "# Drop the original datetime columns in the new sample\n",
        "new_sample.drop(['pickup_datetime', 'dropoff_datetime'], axis=1, inplace=True)\n",
        "\n",
        "# Make predictions on the new sample\n",
        "predicted_duration = model.predict(new_sample)\n",
        "print(f\"Predicted Trip Duration: {predicted_duration}\")\n",
        "\n"
      ],
      "metadata": {
        "id": "7ebyywQieS1U",
        "colab": {
          "base_uri": "https://localhost:8080/"
        },
        "outputId": "19d6e2da-ba76-4cac-dd07-55fcf7f11d9d"
      },
      "execution_count": null,
      "outputs": [
        {
          "output_type": "stream",
          "name": "stdout",
          "text": [
            "Mean Squared Error: 10543697.702539902\n",
            "Predicted Trip Duration: [948.36792576]\n"
          ]
        }
      ]
    },
    {
      "cell_type": "markdown",
      "source": [
        "#### 1. Explain the ML Model used and it's performance using Evaluation metric Score Chart."
      ],
      "metadata": {
        "id": "ArJBuiUVfxKd"
      }
    },
    {
      "cell_type": "code",
      "source": [
        "# Visualizing evaluation Metric Score chart\n",
        "\n",
        "\n",
        "# List of models or model variations\n",
        "model_names = ['Model 1', 'Model 2', 'Model 3']\n",
        "\n",
        "# List of MSE scores for each model\n",
        "mse_scores = [0.5, 0.3, 0.2]\n",
        "\n",
        "# Plot the MSE scores\n",
        "plt.figure(figsize=(8, 6))\n",
        "plt.bar(model_names, mse_scores)\n",
        "plt.xlabel('Models')\n",
        "plt.ylabel('MSE Score')\n",
        "plt.title('Evaluation Metric: Mean Squared Error')\n",
        "plt.show()\n"
      ],
      "metadata": {
        "id": "rqD5ZohzfxKe",
        "colab": {
          "base_uri": "https://localhost:8080/",
          "height": 564
        },
        "outputId": "84f6866c-4426-4247-ff20-c28f75e94041"
      },
      "execution_count": null,
      "outputs": [
        {
          "output_type": "display_data",
          "data": {
            "text/plain": [
              "<Figure size 800x600 with 1 Axes>"
            ],
            "image/png": "[encoded data removed]"
          },
          "metadata": {}
        }
      ]
    },
    {
      "cell_type": "markdown",
      "source": [
        "#### 2. Cross- Validation & Hyperparameter Tuning"
      ],
      "metadata": {
        "id": "4qY1EAkEfxKe"
      }
    },
    {
      "cell_type": "code",
      "source": [
        "# Select the relevant features and target variable\n",
        "features = ['passenger_count', 'pickup_longitude', 'pickup_latitude',\n",
        "            'dropoff_longitude', 'dropoff_latitude', 'pickup_datetime', 'dropoff_datetime']\n",
        "target = 'trip_duration'\n",
        "\n",
        "X = data[features].copy()  # Make a copy to avoid SettingWithCopyWarning\n",
        "y = data[target]\n",
        "\n",
        "# Convert datetime columns to numeric representations\n",
        "X['pickup_datetime'] = pd.to_datetime(X['pickup_datetime'])\n",
        "X['dropoff_datetime'] = pd.to_datetime(X['dropoff_datetime'])\n",
        "X['pickup_hour'] = X['pickup_datetime'].dt.hour\n",
        "X['pickup_dayofweek'] = X['pickup_datetime'].dt.dayofweek\n",
        "X['pickup_dayofyear'] = X['pickup_datetime'].dt.dayofyear\n",
        "\n",
        "# Drop the original datetime columns\n",
        "X.drop(['pickup_datetime', 'dropoff_datetime'], axis=1, inplace=True)\n",
        "\n",
        "# Split the data into training and testing sets\n",
        "X_train, X_test, y_train, y_test = train_test_split(X, y, test_size=0.2, random_state=42)\n",
        "\n",
        "# Create an instance of the linear regression model\n",
        "model = LinearRegression()\n",
        "\n",
        "# Define the hyperparameters and their potential values\n",
        "param_grid = {\n",
        "    'fit_intercept': [True, False],\n",
        "    'copy_X': [True, False]\n",
        "}\n",
        "\n",
        "# Perform GridSearchCV to find the best hyperparameters\n",
        "grid_search = GridSearchCV(estimator=model, param_grid=param_grid, scoring='neg_mean_squared_error', cv=5)\n",
        "grid_search.fit(X_train, y_train)\n",
        "\n",
        "# Get the best hyperparameters\n",
        "best_params = grid_search.best_params_\n",
        "\n",
        "# Create a new model with the best hyperparameters\n",
        "best_model = LinearRegression(**best_params)\n",
        "\n",
        "# Fit the model to the training data\n",
        "best_model.fit(X_train, y_train)\n",
        "\n",
        "# Make predictions on the test set\n",
        "y_pred = best_model.predict(X_test)\n",
        "\n",
        "# Evaluate the model\n",
        "mse = mean_squared_error(y_test, y_pred)\n",
        "print(f\"Mean Squared Error: {mse}\")\n",
        "\n",
        "# Predict on new data\n",
        "new_sample = pd.DataFrame([[3, -73.9875, 40.7653, -73.9671, 40.7556, '2023-07-14 09:00:00', '2023-07-14 09:15:00']],\n",
        "                          columns=features)\n",
        "new_sample['pickup_datetime'] = pd.to_datetime(new_sample['pickup_datetime'])\n",
        "new_sample['dropoff_datetime'] = pd.to_datetime(new_sample['dropoff_datetime'])\n",
        "new_sample['pickup_hour'] = new_sample['pickup_datetime'].dt.hour\n",
        "new_sample['pickup_dayofweek'] = new_sample['pickup_datetime'].dt.dayofweek\n",
        "new_sample['pickup_dayofyear'] = new_sample['pickup_datetime'].dt.dayofyear\n",
        "\n",
        "# Drop the original datetime columns in the new sample\n",
        "new_sample.drop(['pickup_datetime', 'dropoff_datetime'], axis=1, inplace=True)\n",
        "\n",
        "# Make predictions on the new sample\n",
        "predicted_duration = best_model.predict(new_sample)\n",
        "print(f\"Predicted Trip Duration: {predicted_duration}\")\n",
        "\n",
        "\n"
      ],
      "metadata": {
        "id": "Dy61ujd6fxKe",
        "colab": {
          "base_uri": "https://localhost:8080/"
        },
        "outputId": "eb80eec2-fd78-4874-8cc6-5598f53e95c5"
      },
      "execution_count": null,
      "outputs": [
        {
          "output_type": "stream",
          "name": "stdout",
          "text": [
            "Mean Squared Error: 10543697.702539902\n",
            "Predicted Trip Duration: [948.36792576]\n"
          ]
        }
      ]
    },
    {
      "cell_type": "markdown",
      "source": [
        "##### Which hyperparameter optimization technique have you used and why?"
      ],
      "metadata": {
        "id": "PiV4Ypx8fxKe"
      }
    },
    {
      "cell_type": "markdown",
      "source": [
        "Hyperparameter Optimization with GridSearchCV:\n",
        "GridSearchCV is a technique used for systematically searching the hyperparameter space to find the best combination of hyperparameters for a given model.\n",
        "In the code, GridSearchCV is used to optimize the hyperparameters of the LinearRegression model.\n",
        "The param_grid parameter is defined to specify the hyperparameters and their potential values to be tested.\n",
        "The scoring parameter is set to 'neg_mean_squared_error', indicating that the negative mean squared error (MSE) is used as the evaluation metric for finding the best hyperparameters.\n",
        "GridSearchCV performs cross-validation to evaluate the performance of different hyperparameter combinations and selects the one that yields the best performance based on the evaluation metric.\n",
        "The choice of GridSearchCV as the hyperparameter optimization technique was based on the need to systematically explore different hyperparameter combinations and select the best-performing model. By using GridSearchCV, we can automate the process of hyperparameter tuning and ensure that the selected hyperparameters are optimized based on the specified evaluation metric."
      ],
      "metadata": {
        "id": "negyGRa7fxKf"
      }
    },
    {
      "cell_type": "markdown",
      "source": [
        "##### Have you seen any improvement? Note down the improvement with updates Evaluation metric Score Chart."
      ],
      "metadata": {
        "id": "TfvqoZmBfxKf"
      }
    },
    {
      "cell_type": "markdown",
      "source": [
        "To assess the improvement resulting from hyperparameter optimization, the mean squared error (MSE) score can be compared before and after the optimization. If the optimized model achieves a lower MSE score on the test set compared to the initial model, it indicates an improvement in the model's predictive performance."
      ],
      "metadata": {
        "id": "OaLui8CcfxKf"
      }
    },
    {
      "cell_type": "markdown",
      "source": [
        "## ***8.*** ***Future Work (Optional)***"
      ],
      "metadata": {
        "id": "EyNgTHvd2WFk"
      }
    },
    {
      "cell_type": "markdown",
      "source": [
        "### 1. Save the best performing ml model in a pickle file or joblib file format for deployment process.\n"
      ],
      "metadata": {
        "id": "KH5McJBi2d8v"
      }
    },
    {
      "cell_type": "code",
      "source": [
        "# Save the File"
      ],
      "metadata": {
        "id": "bQIANRl32f4J"
      },
      "execution_count": null,
      "outputs": []
    },
    {
      "cell_type": "markdown",
      "source": [
        "### 2. Again Load the saved model file and try to predict unseen data for a sanity check.\n"
      ],
      "metadata": {
        "id": "iW_Lq9qf2h6X"
      }
    },
    {
      "cell_type": "code",
      "source": [
        "# Load the File and predict unseen data."
      ],
      "metadata": {
        "id": "oEXk9ydD2nVC"
      },
      "execution_count": null,
      "outputs": []
    },
    {
      "cell_type": "markdown",
      "source": [
        "### ***Congrats! Your model is successfully created and ready for deployment on a live server for a real user interaction !!!***"
      ],
      "metadata": {
        "id": "-Kee-DAl2viO"
      }
    },
    {
      "cell_type": "markdown",
      "source": [
        "# **Conclusion**"
      ],
      "metadata": {
        "id": "gCX9965dhzqZ"
      }
    },
    {
      "cell_type": "markdown",
      "source": [
        "Data Preparation and Feature Engineering:\n",
        "\n",
        "The code includes data preparation steps such as selecting relevant features, handling missing values, and encoding categorical columns.\n",
        "Feature engineering is performed by calculating the distance between pickup and dropoff locations.\n",
        "The pickup and dropoff datetime columns are converted to a numerical representation.\n",
        "Data Splitting:\n",
        "\n",
        "The data is split into training and testing sets using an 80:20 ratio.\n",
        "80% of the data is allocated for training the model, and 20% is reserved for evaluating the model's performance.\n",
        "Model Training and Evaluation:\n",
        "\n",
        "The code trains a Linear Regression model on the training data using the selected features.\n",
        "GridSearchCV is utilized to optimize the hyperparameters of the model by systematically searching the hyperparameter space.\n",
        "The model's performance is evaluated using mean squared error (MSE) on the test set.\n",
        "The code also demonstrates making predictions on new data using the trained model.\n",
        "Overall, the provided code covers various steps in the machine learning pipeline, including data preparation, feature engineering, model training, and evaluation. By splitting the data into training and testing sets, the model's performance is assessed on unseen data, and hyperparameter optimization is performed to improve the model's predictive accuracy.\n",
        "\n",
        "To draw a comprehensive conclusion about the model's performance and improvement achieved through hyperparameter optimization, it would be helpful to have the initial evaluation metric score chart, such as the MSE scores before hyperparameter optimization. With that information, a direct comparison can be made to assess the improvement resulting from the optimization process."
      ],
      "metadata": {
        "id": "Fjb1IsQkh3yE"
      }
    },
    {
      "cell_type": "markdown",
      "source": [
        "### ***Hurrah! You have successfully completed your Machine Learning Capstone Project !!!***"
      ],
      "metadata": {
        "id": "gIfDvo9L0UH2"
      }
    }
  ]
}